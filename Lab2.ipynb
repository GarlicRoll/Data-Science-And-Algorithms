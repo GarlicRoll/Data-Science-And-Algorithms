{
 "cells": [
  {
   "cell_type": "code",
   "execution_count": 375,
   "id": "24a2f44c935d74c1",
   "metadata": {
    "collapsed": false,
    "ExecuteTime": {
     "end_time": "2024-03-14T15:14:49.275485500Z",
     "start_time": "2024-03-14T15:14:49.266099700Z"
    }
   },
   "outputs": [],
   "source": [
    "import csv\n",
    "import math\n",
    "import matplotlib.pyplot as plt\n",
    "\n",
    "class POI:\n",
    "    def __init__(self, id, name, latitude, longitude, type_code, category):\n",
    "        self.id = id\n",
    "        self.name = name\n",
    "        self.latitude = latitude\n",
    "        self.longitude = longitude\n",
    "        self.type_code = type_code\n",
    "        self.category = category\n",
    "        "
   ]
  },
  {
   "cell_type": "code",
   "outputs": [],
   "source": [
    "from math import sin, cos, sqrt, atan2, radians\n",
    "def degrees_to_meters(lat1, lon1, lat2, lon2):\n",
    "    # Approximate radius of earth in km\n",
    "    R = 6373.0\n",
    "\n",
    "    lat1 = radians(lat1)\n",
    "    lon1 = radians(lon1)\n",
    "    lat2 = radians(lat2)\n",
    "    lon2 = radians(lon2)\n",
    "    \n",
    "    dlon = lon2 - lon1\n",
    "    dlat = lat2 - lat1\n",
    "    \n",
    "    a = sin(dlat / 2)**2 + cos(lat1) * cos(lat2) * sin(dlon / 2)**2\n",
    "    c = 2 * atan2(sqrt(a), sqrt(1 - a))\n",
    "    \n",
    "    # Distance between two points in meters\n",
    "    distance = R * c * 1000\n",
    "    return distance"
   ],
   "metadata": {
    "collapsed": false,
    "ExecuteTime": {
     "end_time": "2024-03-14T15:14:49.298710100Z",
     "start_time": "2024-03-14T15:14:49.278888100Z"
    }
   },
   "id": "3d2bdd58f7cc655f",
   "execution_count": 376
  },
  {
   "cell_type": "code",
   "outputs": [],
   "source": [
    "class IndexBuilding:\n",
    "    def __init__(self, file_path):\n",
    "        self.poi_list = []\n",
    "        self.poi_matrix = []\n",
    "        \n",
    "        self.diff_latitude = 0\n",
    "        self.diff_longitude = 0\n",
    "        \n",
    "        self.step_latitude = 0\n",
    "        self.step_longitude = 0\n",
    "        \n",
    "        self.min_latitude = 0\n",
    "        self.min_longitude = 0\n",
    "        \n",
    "        self.max_latitude = 0\n",
    "        self.max_longitude = 0\n",
    "        \n",
    "        self.boarders = 10\n",
    "             \n",
    "        self.build_index_brute_force(file_path)\n",
    "        self.build_spatial_index()\n",
    "        \n",
    "    # An index-building function (for brute force)\n",
    "    def build_index_brute_force(self, file_path):\n",
    "        with open(file_path, 'r', encoding='utf-8-sig') as file:\n",
    "            reader = csv.reader(file)\n",
    "            next(reader)  # Skip header row\n",
    "            id = -1\n",
    "            for row in reader:\n",
    "                id += 1\n",
    "                name = row[0]\n",
    "                latitude = float(row[1])\n",
    "                longitude = float(row[2])\n",
    "                type_code = row[3]\n",
    "                category = row[4]\n",
    "                poi = POI(id, name, latitude, longitude, type_code, category)\n",
    "                self.poi_list.append(poi)\n",
    "    \n",
    "    # An index-building function (for spatial)\n",
    "    def build_spatial_index(self):\n",
    "        max_latitude = max(poi.latitude for poi in self.poi_list)\n",
    "        max_longitude = max(poi.longitude for poi in self.poi_list)\n",
    "        min_latitude = min(poi.latitude for poi in self.poi_list)\n",
    "        min_longitude = min(poi.longitude for poi in self.poi_list)\n",
    "        \n",
    "        diff_latitude = max_latitude - min_latitude\n",
    "        diff_longitude = max_longitude - min_longitude\n",
    "        \n",
    "        step_latitude = diff_latitude / self.boarders\n",
    "        step_longitude = diff_longitude / self.boarders\n",
    "        \n",
    "        poi_matrix = [[[] for _ in range(self.boarders + 1)] for _ in range(self.boarders + 1)]\n",
    "    \n",
    "        for poi in self.poi_list:\n",
    "            i = int((poi.longitude - min_longitude) // step_longitude)\n",
    "            j = int((poi.latitude - min_latitude) // step_latitude)\n",
    "            poi_matrix[i][j].append(poi) \n",
    "            \n",
    "        self.poi_matrix = poi_matrix\n",
    "        \n",
    "        self.step_latitude = step_latitude\n",
    "        self.step_longitude = step_longitude\n",
    "        \n",
    "        self.min_latitude = min_latitude\n",
    "        self.min_longitude = min_longitude\n",
    "        \n",
    "        self.max_latitude = max_latitude\n",
    "        self.max_longitude = max_longitude\n",
    "        \n",
    "        self.diff_latitude = diff_latitude\n",
    "        self.diff_longitude = diff_longitude\n",
    "        \n",
    "    # A brute-force range query function\n",
    "    def range_scan(self, query_range, type_regex_str):\n",
    "        result = []\n",
    "        for poi in self.poi_list:\n",
    "            if query_range.contains(poi.latitude, poi.longitude) and poi.type_code.startswith(type_regex_str):\n",
    "                result.append(poi)\n",
    "        return result\n",
    "    \n",
    "    # A brute-force nearest neighbor query function\n",
    "    def nearest_neighbors_scan(self, query_point, type_regex_str):\n",
    "        result = None\n",
    "        min_distance = 9999 # meters \n",
    "        for poi in self.poi_list:\n",
    "            if poi.type_code.startswith(type_regex_str):\n",
    "                distance = degrees_to_meters(query_point.latitude, query_point.longitude, poi.latitude, poi.longitude)\n",
    "                if distance < min_distance:\n",
    "                    min_distance = distance\n",
    "                    result = poi\n",
    "        return result\n",
    "    \n",
    "    # A nearest neighbor query function based on the spatial index\n",
    "    def nearest_neighbors_query(self, query_point, type_regex_str):\n",
    "    \n",
    "        # Index of query point in our matrix (spatial indexing)\n",
    "        i = int((query_point.longitude - self.min_longitude) // self.step_longitude) - 1\n",
    "        j = int((query_point.latitude - self.min_latitude) // self.step_latitude) - 1\n",
    "        \n",
    "        # Calculating the coordinates of the sides of the box (cell) where query point is located\n",
    "        down = self.min_longitude + i * self.step_longitude\n",
    "        up = down + self.step_longitude\n",
    "        left = self.min_latitude + j * self.step_latitude\n",
    "        right = left + self.step_latitude\n",
    "        \n",
    "        # Calculating the distances from query point to the boarders of the cell\n",
    "        # To check do we need to check adjacent cells\n",
    "        distance_to_left = degrees_to_meters(query_point.latitude, query_point.longitude, left, query_point.longitude)\n",
    "        distance_to_right = degrees_to_meters(query_point.latitude, query_point.longitude, right, query_point.longitude)\n",
    "        distance_to_up = degrees_to_meters(query_point.latitude, query_point.longitude, query_point.latitude, up)\n",
    "        distance_to_down = degrees_to_meters(query_point.latitude, query_point.longitude, query_point.latitude, down)\n",
    "        \n",
    "        result = None\n",
    "        min_distance = 9999 # meters\n",
    "        for poi in self.poi_matrix[i][j]:\n",
    "            if poi.type_code.startswith(type_regex_str):\n",
    "                distance = degrees_to_meters(query_point.latitude, query_point.longitude, poi.latitude, poi.longitude)\n",
    "                if distance < min_distance:\n",
    "                    min_distance = distance\n",
    "                    result = poi\n",
    "    \n",
    "        return result\n",
    "    \n",
    "    # A range query function based on the spatial index\n",
    "    def range_query(self, query_range, type_regex_str):\n",
    "        \n",
    "        max_longitude = query_range.upper_left.longitude\n",
    "        if max_longitude > self.max_longitude: max_longitude = self.max_longitude\n",
    "            \n",
    "        min_longitude = query_range.bottom_right.longitude\n",
    "        if min_longitude < self.min_longitude: min_longitude = self.min_longitude\n",
    "        \n",
    "        max_latitude = query_range.bottom_right.latitude\n",
    "        if max_latitude > self.max_latitude: max_latitude = self.max_latitude\n",
    "        \n",
    "        min_latitude = query_range.upper_left.latitude\n",
    "        if min_latitude < self.min_latitude: min_latitude = self.min_latitude\n",
    "        \n",
    "        min_j = int((min_latitude - self.min_latitude) // self.step_latitude)\n",
    "        max_j = int((max_latitude - self.min_latitude) // self.step_latitude)\n",
    "        \n",
    "        min_i = int((min_longitude - self.min_longitude) // self.step_longitude)\n",
    "        max_i = int((max_longitude - self.min_longitude) // self.step_longitude)\n",
    "        \n",
    "        \n",
    "        result = []\n",
    "        for i in range(min_i, max_i + 1):\n",
    "            for j in range(min_j, max_j + 1):\n",
    "                for poi in self.poi_matrix[i][j]:\n",
    "                    if (query_range.contains(poi.latitude, poi.longitude) \n",
    "                            and poi.type_code.startswith(type_regex_str)):\n",
    "                        result.append(poi)\n",
    "        return result\n",
    "                "
   ],
   "metadata": {
    "collapsed": false,
    "ExecuteTime": {
     "end_time": "2024-03-14T15:14:49.300321700Z",
     "start_time": "2024-03-14T15:14:49.294390300Z"
    }
   },
   "id": "95e612ae8e487665",
   "execution_count": 377
  },
  {
   "cell_type": "code",
   "outputs": [],
   "source": [
    "class Rectangle:\n",
    "    def __init__(self, upper_left, bottom_right):\n",
    "        self.upper_left = upper_left\n",
    "        self.bottom_right = bottom_right\n",
    "        \n",
    "    def __init__(self, center, side_length_meters):\n",
    "        self.center = center\n",
    "        self.side_length_meters = side_length_meters\n",
    "\n",
    "        # Calculate the half side length in meters\n",
    "        half_side_length_meters = side_length_meters / 2\n",
    "\n",
    "        # Calculate the latitude and longitude offsets for the rectangle\n",
    "        lat_offset = (180 / math.pi) * (half_side_length_meters / 6373000)\n",
    "        lon_offset = (180 / math.pi) * (half_side_length_meters / 6373000) / math.cos(math.radians(center.latitude))\n",
    "\n",
    "        # Calculate the upper left and bottom right points of the rectangle\n",
    "        self.upper_left = Point(center.latitude - lat_offset, center.longitude + lon_offset)\n",
    "        self.bottom_right = Point(center.latitude + lat_offset, center.longitude - lon_offset)\n",
    "    \n",
    "    # Checking if rectangle contains poijnt\n",
    "    def contains(self, latitude, longitude):\n",
    "        return (self.bottom_right.latitude >= latitude >= self.upper_left.latitude and\n",
    "                self.bottom_right.longitude <= longitude <= self.upper_left.longitude)"
   ],
   "metadata": {
    "collapsed": false,
    "ExecuteTime": {
     "end_time": "2024-03-14T15:14:49.318178Z",
     "start_time": "2024-03-14T15:14:49.301262200Z"
    }
   },
   "id": "3a67ae6614efb9b0",
   "execution_count": 378
  },
  {
   "cell_type": "code",
   "outputs": [],
   "source": [
    "class Point:\n",
    "    def __init__(self, latitude, longitude):\n",
    "        self.latitude = latitude\n",
    "        self.longitude = longitude"
   ],
   "metadata": {
    "collapsed": false,
    "ExecuteTime": {
     "end_time": "2024-03-14T15:14:49.318683300Z",
     "start_time": "2024-03-14T15:14:49.306718100Z"
    }
   },
   "id": "1de4547cde60b647",
   "execution_count": 379
  },
  {
   "cell_type": "code",
   "outputs": [],
   "source": [
    "# Index building\n",
    "index = IndexBuilding('Assignment2-2012_BIT_POI.csv')"
   ],
   "metadata": {
    "collapsed": false,
    "ExecuteTime": {
     "end_time": "2024-03-14T15:14:49.332702400Z",
     "start_time": "2024-03-14T15:14:49.310149900Z"
    }
   },
   "id": "5df558e534b50c4",
   "execution_count": 380
  },
  {
   "cell_type": "code",
   "outputs": [
    {
     "name": "stdout",
     "output_type": "stream",
     "text": [
      "Nearest ATM around Central Building of BIT (spatial indexing):\n",
      "ID: 1120, Latitude: 39.9565121976451, Longitude: 116.31054154116, Type Code: 160306\n"
     ]
    }
   ],
   "source": [
    "# Searching for the nearest ATM with spatial indexing\n",
    "type_regex_str = \"1603\"\n",
    "query_point = Point(39.958, 116.311)\n",
    "res = index.nearest_neighbors_query(query_point, type_regex_str)\n",
    "print(\"Nearest ATM around Central Building of BIT (spatial indexing):\")\n",
    "print(f\"ID: {res.id}, Latitude: {res.latitude}, Longitude: {res.longitude}, Type Code: {res.type_code}\")"
   ],
   "metadata": {
    "collapsed": false,
    "ExecuteTime": {
     "end_time": "2024-03-14T15:14:49.354253200Z",
     "start_time": "2024-03-14T15:14:49.322367400Z"
    }
   },
   "id": "7d4b61a102e1bea5",
   "execution_count": 381
  },
  {
   "cell_type": "code",
   "outputs": [
    {
     "name": "stdout",
     "output_type": "stream",
     "text": [
      "Nearest ATM around Central Building of BIT (brute-force):\n",
      "ID: 1120, Latitude: 39.9565121976451, Longitude: 116.31054154116, Type Code: 160306\n"
     ]
    }
   ],
   "source": [
    "# Searching for the nearest ATM with brute force\n",
    "res = index.nearest_neighbors_scan(query_point, type_regex_str)\n",
    "print(\"Nearest ATM around Central Building of BIT (brute-force):\")\n",
    "print(f\"ID: {res.id}, Latitude: {res.latitude}, Longitude: {res.longitude}, Type Code: {res.type_code}\")"
   ],
   "metadata": {
    "collapsed": false,
    "ExecuteTime": {
     "end_time": "2024-03-14T15:14:49.354253200Z",
     "start_time": "2024-03-14T15:14:49.327972300Z"
    }
   },
   "id": "3e7c2523e6a58a43",
   "execution_count": 382
  },
  {
   "cell_type": "code",
   "outputs": [
    {
     "name": "stdout",
     "output_type": "stream",
     "text": [
      "Nearest restaurants to the south door of BIT:\n",
      "Count of restaurants in 500x500 meters square: 27\n",
      "ID: 8, Latitude: 39.954419455158, Longitude: 116.310981826996, Type Code: 50500\n",
      "ID: 33, Latitude: 39.9537194425661, Longitude: 116.31206649601, Type Code: 50100\n",
      "ID: 41, Latitude: 39.9560135808697, Longitude: 116.311413664664, Type Code: 50400\n",
      "ID: 62, Latitude: 39.9545775874651, Longitude: 116.310907971271, Type Code: 50100\n",
      "ID: 65, Latitude: 39.9536057693156, Longitude: 116.312425706112, Type Code: 50100\n",
      "ID: 67, Latitude: 39.9531347054657, Longitude: 116.31140803998, Type Code: 50000\n",
      "ID: 70, Latitude: 39.9559018183109, Longitude: 116.312351582772, Type Code: 50500\n",
      "ID: 71, Latitude: 39.9536186953279, Longitude: 116.312464617278, Type Code: 50100\n",
      "ID: 73, Latitude: 39.954466788069, Longitude: 116.311336032598, Type Code: 50300\n",
      "ID: 135, Latitude: 39.9532334862187, Longitude: 116.309385509306, Type Code: 50100\n",
      "ID: 136, Latitude: 39.9539428800236, Longitude: 116.310765368082, Type Code: 50121\n",
      "ID: 178, Latitude: 39.9537194425661, Longitude: 116.31206649601, Type Code: 50117\n",
      "ID: 181, Latitude: 39.9532954800093, Longitude: 116.31258538725, Type Code: 50800\n",
      "ID: 183, Latitude: 39.9560080460815, Longitude: 116.311166216579, Type Code: 50111\n",
      "ID: 184, Latitude: 39.9560079636232, Longitude: 116.311210118847, Type Code: 50100\n",
      "ID: 194, Latitude: 39.9546726099278, Longitude: 116.310893990374, Type Code: 50202\n",
      "ID: 195, Latitude: 39.9555118235525, Longitude: 116.309155728038, Type Code: 50117\n",
      "ID: 200, Latitude: 39.9560002056449, Longitude: 116.311081406316, Type Code: 50500\n",
      "ID: 248, Latitude: 39.95313042415, Longitude: 116.311557706782, Type Code: 50121\n",
      "ID: 249, Latitude: 39.9558974774689, Longitude: 116.312532178574, Type Code: 50500\n",
      "ID: 251, Latitude: 39.9555089794922, Longitude: 116.309071912655, Type Code: 50118\n",
      "ID: 252, Latitude: 39.9543574482371, Longitude: 116.310986823698, Type Code: 50119\n",
      "ID: 253, Latitude: 39.9531161918791, Longitude: 116.311681432479, Type Code: 50102\n",
      "ID: 254, Latitude: 39.9530077484594, Longitude: 116.310855286144, Type Code: 50100\n",
      "ID: 257, Latitude: 39.9539129496867, Longitude: 116.310194637276, Type Code: 50100\n",
      "ID: 258, Latitude: 39.9555091445122, Longitude: 116.308983107752, Type Code: 50118\n",
      "ID: 260, Latitude: 39.9536218459174, Longitude: 116.312384795752, Type Code: 50000\n"
     ]
    }
   ],
   "source": [
    "# Searching for the restaurants in 500x500 meters square with brute force \n",
    "query_point = Point(39.955, 116.310)\n",
    "query_range = Rectangle(query_point, 500)\n",
    "type_regex_str = \"5\"\n",
    "res = index.range_scan(query_range, type_regex_str)\n",
    "print(\"Nearest restaurants to the south door of BIT:\")\n",
    "print(f\"Count of restaurants in 500x500 meters square: {len(res)}\")\n",
    "for poi in res:\n",
    "    print(f\"ID: {poi.id}, Latitude: {poi.latitude}, Longitude: {poi.longitude}, Type Code: {poi.type_code}\")"
   ],
   "metadata": {
    "collapsed": false,
    "ExecuteTime": {
     "end_time": "2024-03-14T15:14:49.357425600Z",
     "start_time": "2024-03-14T15:14:49.332702400Z"
    }
   },
   "id": "8684abb669f544db",
   "execution_count": 383
  },
  {
   "cell_type": "code",
   "outputs": [
    {
     "name": "stdout",
     "output_type": "stream",
     "text": [
      "Nearest restaurants to the south door of BIT:\n",
      "Count of restaurants in 500x500 meters square: 27\n",
      "ID: 135, Latitude: 39.9532334862187, Longitude: 116.309385509306, Type Code: 50100\n",
      "ID: 136, Latitude: 39.9539428800236, Longitude: 116.310765368082, Type Code: 50121\n",
      "ID: 257, Latitude: 39.9539129496867, Longitude: 116.310194637276, Type Code: 50100\n",
      "ID: 195, Latitude: 39.9555118235525, Longitude: 116.309155728038, Type Code: 50117\n",
      "ID: 251, Latitude: 39.9555089794922, Longitude: 116.309071912655, Type Code: 50118\n",
      "ID: 258, Latitude: 39.9555091445122, Longitude: 116.308983107752, Type Code: 50118\n",
      "ID: 8, Latitude: 39.954419455158, Longitude: 116.310981826996, Type Code: 50500\n",
      "ID: 33, Latitude: 39.9537194425661, Longitude: 116.31206649601, Type Code: 50100\n",
      "ID: 65, Latitude: 39.9536057693156, Longitude: 116.312425706112, Type Code: 50100\n",
      "ID: 67, Latitude: 39.9531347054657, Longitude: 116.31140803998, Type Code: 50000\n",
      "ID: 71, Latitude: 39.9536186953279, Longitude: 116.312464617278, Type Code: 50100\n",
      "ID: 73, Latitude: 39.954466788069, Longitude: 116.311336032598, Type Code: 50300\n",
      "ID: 178, Latitude: 39.9537194425661, Longitude: 116.31206649601, Type Code: 50117\n",
      "ID: 181, Latitude: 39.9532954800093, Longitude: 116.31258538725, Type Code: 50800\n",
      "ID: 248, Latitude: 39.95313042415, Longitude: 116.311557706782, Type Code: 50121\n",
      "ID: 252, Latitude: 39.9543574482371, Longitude: 116.310986823698, Type Code: 50119\n",
      "ID: 253, Latitude: 39.9531161918791, Longitude: 116.311681432479, Type Code: 50102\n",
      "ID: 254, Latitude: 39.9530077484594, Longitude: 116.310855286144, Type Code: 50100\n",
      "ID: 260, Latitude: 39.9536218459174, Longitude: 116.312384795752, Type Code: 50000\n",
      "ID: 62, Latitude: 39.9545775874651, Longitude: 116.310907971271, Type Code: 50100\n",
      "ID: 70, Latitude: 39.9559018183109, Longitude: 116.312351582772, Type Code: 50500\n",
      "ID: 194, Latitude: 39.9546726099278, Longitude: 116.310893990374, Type Code: 50202\n",
      "ID: 200, Latitude: 39.9560002056449, Longitude: 116.311081406316, Type Code: 50500\n",
      "ID: 249, Latitude: 39.9558974774689, Longitude: 116.312532178574, Type Code: 50500\n",
      "ID: 41, Latitude: 39.9560135808697, Longitude: 116.311413664664, Type Code: 50400\n",
      "ID: 183, Latitude: 39.9560080460815, Longitude: 116.311166216579, Type Code: 50111\n",
      "ID: 184, Latitude: 39.9560079636232, Longitude: 116.311210118847, Type Code: 50100\n"
     ]
    }
   ],
   "source": [
    "# Searching for the restaurants in 500x500 meters square with spatial indexing \n",
    "query_point = Point(39.955, 116.310)\n",
    "query_range = Rectangle(query_point, 500)\n",
    "type_regex_str = \"5\"\n",
    "res = index.range_query(query_range, type_regex_str)\n",
    "print(\"Nearest restaurants to the south door of BIT:\")\n",
    "print(f\"Count of restaurants in 500x500 meters square: {len(res)}\")\n",
    "for poi in res:\n",
    "    print(f\"ID: {poi.id}, Latitude: {poi.latitude}, Longitude: {poi.longitude}, Type Code: {poi.type_code}\")"
   ],
   "metadata": {
    "collapsed": false,
    "ExecuteTime": {
     "end_time": "2024-03-14T15:14:49.358524800Z",
     "start_time": "2024-03-14T15:14:49.341080300Z"
    }
   },
   "id": "8c458f52777cee47",
   "execution_count": 384
  },
  {
   "cell_type": "code",
   "outputs": [
    {
     "data": {
      "text/plain": "<Figure size 640x480 with 1 Axes>",
      "image/png": "[encoded data removed]"
     },
     "metadata": {},
     "output_type": "display_data"
    }
   ],
   "source": [
    "x = [ind.latitude for ind in index.poi_list]\n",
    "y = [ind.longitude for ind in index.poi_list]\n",
    "plt.scatter(x, y)\n",
    "plt.grid(color=\"r\", linewidth=3)"
   ],
   "metadata": {
    "collapsed": true,
    "ExecuteTime": {
     "end_time": "2024-03-14T15:14:49.457452600Z",
     "start_time": "2024-03-14T15:14:49.345855700Z"
    }
   },
   "id": "initial_id",
   "execution_count": 385
  }
 ],
 "metadata": {
  "kernelspec": {
   "display_name": "Python 3",
   "language": "python",
   "name": "python3"
  },
  "language_info": {
   "codemirror_mode": {
    "name": "ipython",
    "version": 2
   },
   "file_extension": ".py",
   "mimetype": "text/x-python",
   "name": "python",
   "nbconvert_exporter": "python",
   "pygments_lexer": "ipython2",
   "version": "2.7.6"
  }
 },
 "nbformat": 4,
 "nbformat_minor": 5
}
