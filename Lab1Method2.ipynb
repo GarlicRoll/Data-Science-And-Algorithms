{
 "cells": [
  {
   "cell_type": "code",
   "execution_count": 3,
   "id": "initial_id",
   "metadata": {
    "collapsed": true,
    "ExecuteTime": {
     "end_time": "2024-03-06T12:51:10.622759400Z",
     "start_time": "2024-03-06T12:51:10.621725700Z"
    }
   },
   "outputs": [
    {
     "ename": "ParseError",
     "evalue": "syntax error: line 1, column 0 (<string>)",
     "output_type": "error",
     "traceback": [
      "Traceback \u001B[1;36m(most recent call last)\u001B[0m:\n",
      "\u001B[0m  File \u001B[0;32m~\\PycharmProjects\\Data Science\\.venv\\Lib\\site-packages\\IPython\\core\\interactiveshell.py:3577\u001B[0m in \u001B[0;35mrun_code\u001B[0m\n    exec(code_obj, self.user_global_ns, self.user_ns)\u001B[0m\n",
      "\u001B[0m  Cell \u001B[0;32mIn[3], line 12\u001B[0m\n    G = ox.load_graphml(filepath='map')\u001B[0m\n",
      "\u001B[0m  File \u001B[0;32m~\\PycharmProjects\\Data Science\\.venv\\Lib\\site-packages\\osmnx\\io.py:256\u001B[0m in \u001B[0;35mload_graphml\u001B[0m\n    G = nx.read_graphml(\u001B[0m\n",
      "\u001B[0m  File \u001B[0;32m<class 'networkx.utils.decorators.argmap'> compilation 5:5\u001B[0m in \u001B[0;35margmap_read_graphml_1\u001B[0m\n    import itertools\u001B[0m\n",
      "\u001B[0m  File \u001B[0;32m~\\PycharmProjects\\Data Science\\.venv\\Lib\\site-packages\\networkx\\utils\\backends.py:412\u001B[0m in \u001B[0;35m__call__\u001B[0m\n    return self.orig_func(*args, **kwargs)\u001B[0m\n",
      "\u001B[0m  File \u001B[0;32m~\\PycharmProjects\\Data Science\\.venv\\Lib\\site-packages\\networkx\\readwrite\\graphml.py:296\u001B[0m in \u001B[0;35mread_graphml\u001B[0m\n    glist = list(reader(path=path))\u001B[0m\n",
      "\u001B[0m  File \u001B[0;32m~\\PycharmProjects\\Data Science\\.venv\\Lib\\site-packages\\networkx\\readwrite\\graphml.py:852\u001B[0m in \u001B[0;35m__call__\u001B[0m\n    self.xml = ElementTree(file=path)\u001B[0m\n",
      "\u001B[0m  File \u001B[0;32m~\\AppData\\Local\\Programs\\Python\\Python312\\Lib\\xml\\etree\\ElementTree.py:528\u001B[0m in \u001B[0;35m__init__\u001B[0m\n    self.parse(file)\u001B[0m\n",
      "\u001B[1;36m  File \u001B[1;32m~\\AppData\\Local\\Programs\\Python\\Python312\\Lib\\xml\\etree\\ElementTree.py:568\u001B[1;36m in \u001B[1;35mparse\u001B[1;36m\n\u001B[1;33m    self._root = parser._parse_whole(source)\u001B[1;36m\n",
      "\u001B[1;36m  File \u001B[1;32m<string>\u001B[1;36m\u001B[0m\n\u001B[1;31mParseError\u001B[0m\u001B[1;31m:\u001B[0m syntax error: line 1, column 0\n"
     ]
    }
   ],
   "source": [
    "# Importing libraries\n",
    "import networkx as nx  # Library for containing graphs\n",
    "import osmnx as ox  # Library for open street maps\n",
    "from random import randint  # Random\n",
    "import matplotlib.pyplot as plt  # Plots\n",
    "\n",
    "# Study Area\n",
    "min_lat = 39.84\n",
    "min_lon = 116.30\n",
    "max_lat = 39.97\n",
    "max_lon = 116.46\n",
    "\n",
    "G = ox.load_graphml(filepath='map')\n",
    "\n",
    "# Getting study area graph (with roads for cars)\n",
    "# Two random points on the map which I will use to calculate route\n",
    "point1 = list(G.nodes)[randint(0, len(G.nodes) - 1)]\n",
    "point2 = list(G.nodes)[randint(0, len(G.nodes) - 1)]\n",
    "# Calculating shortest path between two points with dijkstra algorithm\n",
    "shortest_path = nx.shortest_path(G, target=point1, source=point2, method=\"dijkstra\", weight='length')\n",
    "# Printing nodes in the shortest path\n",
    "print(\"Shortest path:\", shortest_path)\n",
    "# Figure 1: Road network plot using OSMnx\n",
    "fig, ax = ox.plot_graph_route(G, shortest_path, route_linewidth=6, route_color='r')\n",
    "# Figure 2: Scaled map of our route\n",
    "list_shortest_path = list(shortest_path)\n",
    "G_path = G.subgraph(shortest_path)\n",
    "# Creating new mini graph (using x and y from start and end of the route. also adding 0.015 to have more place)\n",
    "G_mini = ox.graph_from_bbox(bbox=(\n",
    "G.nodes[list_shortest_path[0]][\"y\"] - 0.015, G.nodes[list_shortest_path[-1]][\"y\"] + 0.015,\n",
    "G.nodes[list_shortest_path[0]][\"x\"] - 0.015, G.nodes[list_shortest_path[-1]][\"x\"] + 0.015), network_type='drive')\n",
    "fig2, ax2 = ox.plot_graph_route(G_mini, shortest_path, route_linewidth=6, route_color='r')\n",
    "# Figure 3: Histogram of edge lengths \n",
    "# Calculate the lengths of edges\n",
    "edge_lengths = [G.get_edge_data(list_shortest_path[i], list_shortest_path[i + 1])[0]['length'] for i in\n",
    "                range(len(list_shortest_path) - 1)]\n",
    "# Create a histogram of edge lengths\n",
    "plt.hist(edge_lengths, rwidth=0.8, histtype='bar')\n",
    "plt.xlabel('Edge Length')\n",
    "plt.ylabel('Frequency')\n",
    "plt.title('Histogram of Edge Lengths')\n",
    "# Figure 4: Bars of different types of roads \n",
    "edge_types = [G.get_edge_data(list_shortest_path[i], list_shortest_path[i + 1])[0]['highway'] for i in\n",
    "              range(len(list_shortest_path) - 1)]\n",
    "for i in range(len(edge_types)):\n",
    "    if type(edge_types[i]) != str:\n",
    "        edge_types[i] = ''\n",
    "edge_types = list(filter(None, edge_types))\n",
    "# Create bars\n",
    "type_counts = {}\n",
    "for t in edge_types:\n",
    "    type_counts[t] = type_counts.get(t, 0) + 1\n",
    "\n",
    "type_labels = list(type_counts.keys())\n",
    "frequencies = list(type_counts.values())\n",
    "plt.bar(type_labels, frequencies)\n",
    "plt.xticks(rotation='vertical')\n",
    "plt.xlabel('Edge type')\n",
    "plt.ylabel('Frequency')\n",
    "plt.title('Bars of Edge Types')\n",
    "# Saving graph and shortest path for QGIS\n",
    "ox.save_graph_geopackage(G, 'map')\n",
    "ox.save_graph_geopackage(G_path, 'shortest_path')"
   ]
  },
  {
   "cell_type": "code",
   "outputs": [],
   "source": [],
   "metadata": {
    "collapsed": false,
    "ExecuteTime": {
     "start_time": "2024-03-06T12:51:10.631788500Z"
    }
   },
   "id": "fe00108b85a2a3b0"
  }
 ],
 "metadata": {
  "kernelspec": {
   "display_name": "Python 3",
   "language": "python",
   "name": "python3"
  },
  "language_info": {
   "codemirror_mode": {
    "name": "ipython",
    "version": 2
   },
   "file_extension": ".py",
   "mimetype": "text/x-python",
   "name": "python",
   "nbconvert_exporter": "python",
   "pygments_lexer": "ipython2",
   "version": "2.7.6"
  }
 },
 "nbformat": 4,
 "nbformat_minor": 5
}
