{
 "cells": [
  {
   "cell_type": "markdown",
   "source": [
    "# Assignment 3: Intelligent Cancer Diagnose\n",
    "## Important Time\n",
    "Submission: 23:59 Apr. 11, 2024 (UTC+8)\n",
    "## Related Datasets\n",
    "Assignment3-Breast-Cancer-Diagnose.csv\n",
    "## Task Description\n",
    "According to features computed from a digitized image of a fine needle aspirate (FNA) of a breast\n",
    "mass, choose appropriate classifier to diagnose whether breast tissues are malignant or benign.\n",
    "## What You Need to Program\n",
    "1. Split your datasets into train/val/test or train/test.\n",
    "2. Implement at least 3 types of classifiers to make the binary classification.\n",
    "3. Give the process about how you choose the hyperparameters for each classifier.\n",
    "4. Compare the performance of difference classifiers.\n",
    "## Note\n",
    "1. This work can be done using scikit-learn.\n",
    "2. Using the provided \".csv\" file. Do not directly load your data using the scikit-learn API, i.e.,\n",
    "\"sklearn.datasets.load_breast_cancer \".\n"
   ],
   "metadata": {
    "collapsed": false
   },
   "id": "d09ed3dbc4628ef4"
  },
  {
   "cell_type": "markdown",
   "source": [
    "## Importing libraries"
   ],
   "metadata": {
    "collapsed": false
   },
   "id": "bc681563dbb27d0e"
  },
  {
   "cell_type": "markdown",
   "source": [
    "### Data"
   ],
   "metadata": {
    "collapsed": false
   },
   "id": "25e69c49097c2744"
  },
  {
   "cell_type": "code",
   "outputs": [],
   "source": [
    "import pandas as pd"
   ],
   "metadata": {
    "collapsed": false,
    "ExecuteTime": {
     "end_time": "2024-04-01T11:35:17.338163700Z",
     "start_time": "2024-04-01T11:35:17.216563300Z"
    }
   },
   "id": "174841cdb14182a0",
   "execution_count": 373
  },
  {
   "cell_type": "markdown",
   "source": [
    "### Preprocessing "
   ],
   "metadata": {
    "collapsed": false
   },
   "id": "6cb65875555140ac"
  },
  {
   "cell_type": "code",
   "outputs": [],
   "source": [
    "from sklearn.model_selection import train_test_split\n",
    "from sklearn.preprocessing import MinMaxScaler"
   ],
   "metadata": {
    "collapsed": false,
    "ExecuteTime": {
     "end_time": "2024-04-01T11:35:17.347922100Z",
     "start_time": "2024-04-01T11:35:17.342393100Z"
    }
   },
   "id": "b8357d797ad40d5e",
   "execution_count": 374
  },
  {
   "cell_type": "markdown",
   "source": [
    "### Models"
   ],
   "metadata": {
    "collapsed": false
   },
   "id": "790586ec1b448070"
  },
  {
   "cell_type": "code",
   "outputs": [],
   "source": [
    "from sklearn.neighbors import KNeighborsClassifier\n",
    "from sklearn.svm import SVC\n",
    "from sklearn.ensemble import RandomForestClassifier\n",
    "from sklearn.model_selection import GridSearchCV\n",
    "\n",
    "from sklearn.metrics import classification_report\n",
    "import matplotlib.pyplot as plt\n",
    "import seaborn as sns\n",
    "from sklearn.metrics import confusion_matrix"
   ],
   "metadata": {
    "collapsed": false,
    "ExecuteTime": {
     "end_time": "2024-04-01T11:35:17.360854500Z",
     "start_time": "2024-04-01T11:35:17.351233300Z"
    }
   },
   "id": "1100866031b44017",
   "execution_count": 375
  },
  {
   "cell_type": "markdown",
   "source": [
    "# Reading data"
   ],
   "metadata": {
    "collapsed": false
   },
   "id": "85591d47921e50a7"
  },
  {
   "cell_type": "code",
   "outputs": [],
   "source": [
    "df = pd.read_csv('Assignment3-Breast-Cancer-Diagnose.csv')\n",
    "# Drop unnecessary columns (in dataset we only one absolutely null column)\n",
    "df.dropna(axis=1, inplace=True)"
   ],
   "metadata": {
    "collapsed": false,
    "ExecuteTime": {
     "end_time": "2024-04-01T11:35:17.398118900Z",
     "start_time": "2024-04-01T11:35:17.362024600Z"
    }
   },
   "id": "df0b5c10e29c74ed",
   "execution_count": 376
  },
  {
   "cell_type": "markdown",
   "source": [
    "### Checking number of rows and columns"
   ],
   "metadata": {
    "collapsed": false
   },
   "id": "8878b1f379259b7"
  },
  {
   "cell_type": "code",
   "outputs": [
    {
     "name": "stdout",
     "output_type": "stream",
     "text": [
      "The DataFrame has 569 rows.\n",
      "The DataFrame has 32 columns.\n"
     ]
    }
   ],
   "source": [
    "row_count = df.shape[0]\n",
    "column_count = df.shape[1]\n",
    "print(f'The DataFrame has {row_count} rows.')\n",
    "print(f'The DataFrame has {column_count} columns.')"
   ],
   "metadata": {
    "collapsed": false,
    "ExecuteTime": {
     "end_time": "2024-04-01T11:35:17.399172500Z",
     "start_time": "2024-04-01T11:35:17.372581Z"
    }
   },
   "id": "8af4fef5e24b7ef7",
   "execution_count": 377
  },
  {
   "cell_type": "markdown",
   "source": [
    "### Checking instances of each class"
   ],
   "metadata": {
    "collapsed": false
   },
   "id": "40a2a5be05518e38"
  },
  {
   "cell_type": "code",
   "outputs": [
    {
     "name": "stdout",
     "output_type": "stream",
     "text": [
      "Number of malignant occurrences: 212, 37.258347978910365 %\n",
      "Number of benign occurrences: 357, 62.741652021089635 %\n"
     ]
    }
   ],
   "source": [
    "malignant_count = (df[\"diagnosis\"] == \"M\").sum()\n",
    "benign_count = (df[\"diagnosis\"] == \"B\").sum()\n",
    "print(f'Number of malignant occurrences: {malignant_count}, {malignant_count/row_count*100} %')\n",
    "print(f'Number of benign occurrences: {benign_count}, {benign_count/row_count*100} %')"
   ],
   "metadata": {
    "collapsed": false,
    "ExecuteTime": {
     "end_time": "2024-04-01T11:35:17.445516500Z",
     "start_time": "2024-04-01T11:35:17.403212500Z"
    }
   },
   "id": "2c70756ebfe2cb90",
   "execution_count": 378
  },
  {
   "cell_type": "markdown",
   "source": [
    "### We can assume that data is balanced because we have enough instances in each class (we do not need to do another improvements to balance our data)"
   ],
   "metadata": {
    "collapsed": false
   },
   "id": "cf84d531b6e0726a"
  },
  {
   "cell_type": "code",
   "outputs": [],
   "source": [
    "# Removing useless id column\n",
    "df = df.drop(['id'], axis = 1)\n",
    "\n",
    "# Change chars to numbers\n",
    "mapping = {'M': 1, 'B': 0}\n",
    "# Use map function to replace values\n",
    "df['diagnosis'] = df['diagnosis'].map(mapping)\n",
    "\n",
    "# Setting data and target\n",
    "x = df.drop(['diagnosis'], axis = 1)\n",
    "y = df['diagnosis']"
   ],
   "metadata": {
    "collapsed": false,
    "ExecuteTime": {
     "end_time": "2024-04-01T11:35:17.482546500Z",
     "start_time": "2024-04-01T11:35:17.448376800Z"
    }
   },
   "id": "80d48b9ecc985d57",
   "execution_count": 379
  },
  {
   "cell_type": "markdown",
   "source": [
    "# Normalizing data"
   ],
   "metadata": {
    "collapsed": false
   },
   "id": "21d0637972bcf8fa"
  },
  {
   "cell_type": "code",
   "outputs": [],
   "source": [
    "scaler = MinMaxScaler()\n",
    "x = scaler.fit_transform(x)"
   ],
   "metadata": {
    "collapsed": false,
    "ExecuteTime": {
     "end_time": "2024-04-01T11:35:17.496514500Z",
     "start_time": "2024-04-01T11:35:17.484688700Z"
    }
   },
   "id": "19be87d9e6b3e02c",
   "execution_count": 380
  },
  {
   "cell_type": "markdown",
   "source": [
    "# Splitting data to train and test sets"
   ],
   "metadata": {
    "collapsed": false
   },
   "id": "48d36f2f8fad42dd"
  },
  {
   "cell_type": "code",
   "outputs": [
    {
     "name": "stdout",
     "output_type": "stream",
     "text": [
      "Train 80%\n",
      "Test 20%\n"
     ]
    }
   ],
   "source": [
    "x_train, x_test, y_train, y_test = train_test_split(x, y, test_size = 0.2, random_state=1)\n",
    "print(\"Train 80%\\nTest 20%\")"
   ],
   "metadata": {
    "collapsed": false,
    "ExecuteTime": {
     "end_time": "2024-04-01T11:35:17.526362200Z",
     "start_time": "2024-04-01T11:35:17.498732800Z"
    }
   },
   "id": "687d8ce181893716",
   "execution_count": 381
  },
  {
   "cell_type": "markdown",
   "source": [
    "# Define parameter grids for each model"
   ],
   "metadata": {
    "collapsed": false
   },
   "id": "8328b0a13edae36d"
  },
  {
   "cell_type": "markdown",
   "source": [
    "Grid Search - iterating hyperparameters"
   ],
   "metadata": {
    "collapsed": false
   },
   "id": "f10b09d594535167"
  },
  {
   "cell_type": "markdown",
   "source": [
    "I am going to use Support Vector Classifier (SVC), Random Forest (rf) and K Near Neighbours models"
   ],
   "metadata": {
    "collapsed": false
   },
   "id": "a62389bd92c5bed7"
  },
  {
   "cell_type": "markdown",
   "source": [
    "### C controls the trade-off between smooth decision boundaries and classifying training points correctly, while gamma defines the influence of training samples on the decision boundary. Kernel - kernel type"
   ],
   "metadata": {
    "collapsed": false
   },
   "id": "61ce65d00fd42306"
  },
  {
   "cell_type": "code",
   "outputs": [],
   "source": [
    "svc_param_grid = {'C': [1, 10, 20, 30], 'gamma': [0.05, 0.1, 0.2, 0.3], 'kernel': ['linear', 'rbf']}"
   ],
   "metadata": {
    "collapsed": false,
    "ExecuteTime": {
     "end_time": "2024-04-01T11:35:17.529498700Z",
     "start_time": "2024-04-01T11:35:17.513191100Z"
    }
   },
   "id": "84267b10c1b264ca",
   "execution_count": 382
  },
  {
   "cell_type": "markdown",
   "source": [
    "### The parameter grid contains different values for n_estimators (number of trees in the forest) and max_depth (maximum depth of the trees). n_estimators controls the number of trees in the forest, while max_depth limits the depth of each tree to prevent overfitting."
   ],
   "metadata": {
    "collapsed": false
   },
   "id": "84340cb80a8d70e0"
  },
  {
   "cell_type": "code",
   "outputs": [],
   "source": [
    "rf_param_grid = {'n_estimators': [50, 100, 200, 300], 'max_depth': [None, 10, 20]}"
   ],
   "metadata": {
    "collapsed": false,
    "ExecuteTime": {
     "end_time": "2024-04-01T11:35:17.564902Z",
     "start_time": "2024-04-01T11:35:17.533335100Z"
    }
   },
   "id": "16040ff3890c7184",
   "execution_count": 383
  },
  {
   "cell_type": "markdown",
   "source": [
    "### The parameter grid contains various values for n_neighbors (number of neighbors to consider) and weights (weighting scheme for prediction). n_neighbors determines the number of nearest neighbors to consider for classification, while weights specifies the weight function used in prediction."
   ],
   "metadata": {
    "collapsed": false
   },
   "id": "d613160c6f086589"
  },
  {
   "cell_type": "code",
   "outputs": [],
   "source": [
    "knn_param_grid = {'n_neighbors': [7, 9, 11, 13], 'weights': ['uniform', 'distance']}"
   ],
   "metadata": {
    "collapsed": false,
    "ExecuteTime": {
     "end_time": "2024-04-01T11:35:17.565976500Z",
     "start_time": "2024-04-01T11:35:17.537595400Z"
    }
   },
   "id": "b9e05464a0cea924",
   "execution_count": 384
  },
  {
   "cell_type": "markdown",
   "source": [
    "# Initialize models"
   ],
   "metadata": {
    "collapsed": false
   },
   "id": "18dc96f3186eaa71"
  },
  {
   "cell_type": "code",
   "outputs": [],
   "source": [
    "svc = SVC()\n",
    "rf = RandomForestClassifier()\n",
    "knn = KNeighborsClassifier()"
   ],
   "metadata": {
    "collapsed": false,
    "ExecuteTime": {
     "end_time": "2024-04-01T11:35:17.568153Z",
     "start_time": "2024-04-01T11:35:17.545739700Z"
    }
   },
   "id": "81cd8dbae71a261",
   "execution_count": 385
  },
  {
   "cell_type": "markdown",
   "source": [
    "# Initialize GridSearchCV for each model"
   ],
   "metadata": {
    "collapsed": false
   },
   "id": "dae83303cb6f8dee"
  },
  {
   "cell_type": "markdown",
   "source": [
    "I am using cross validation for every model (splitting by 3 parts)"
   ],
   "metadata": {
    "collapsed": false
   },
   "id": "8c3459bcb327dba6"
  },
  {
   "cell_type": "code",
   "outputs": [],
   "source": [
    "svc_grid_search = GridSearchCV(svc, svc_param_grid, cv=3, scoring='accuracy', n_jobs=-1)\n",
    "rf_grid_search = GridSearchCV(rf, rf_param_grid, cv=3, scoring='accuracy', n_jobs=-1)\n",
    "knn_grid_search = GridSearchCV(knn, knn_param_grid, cv=3, scoring='accuracy', n_jobs=-1)"
   ],
   "metadata": {
    "collapsed": false,
    "ExecuteTime": {
     "end_time": "2024-04-01T11:35:17.593981900Z",
     "start_time": "2024-04-01T11:35:17.572097100Z"
    }
   },
   "id": "6bedcb462dee4ff3",
   "execution_count": 386
  },
  {
   "cell_type": "markdown",
   "source": [
    "# Fit models with grid search"
   ],
   "metadata": {
    "collapsed": false
   },
   "id": "4c9ea9605a5b059a"
  },
  {
   "cell_type": "code",
   "outputs": [
    {
     "data": {
      "text/plain": "GridSearchCV(cv=3, estimator=KNeighborsClassifier(),\n             param_grid={'n_neighbors': [7, 9, 11, 13],\n                         'weights': ['uniform', 'distance']},\n             scoring='accuracy')",
      "text/html": "<style>#sk-container-id-11 {\n  /* Definition of color scheme common for light and dark mode */\n  --sklearn-color-text: black;\n  --sklearn-color-line: gray;\n  /* Definition of color scheme for unfitted estimators */\n  --sklearn-color-unfitted-level-0: #fff5e6;\n  --sklearn-color-unfitted-level-1: #f6e4d2;\n  --sklearn-color-unfitted-level-2: #ffe0b3;\n  --sklearn-color-unfitted-level-3: chocolate;\n  /* Definition of color scheme for fitted estimators */\n  --sklearn-color-fitted-level-0: #f0f8ff;\n  --sklearn-color-fitted-level-1: #d4ebff;\n  --sklearn-color-fitted-level-2: #b3dbfd;\n  --sklearn-color-fitted-level-3: cornflowerblue;\n\n  /* Specific color for light theme */\n  --sklearn-color-text-on-default-background: var(--sg-text-color, var(--theme-code-foreground, var(--jp-content-font-color1, black)));\n  --sklearn-color-background: var(--sg-background-color, var(--theme-background, var(--jp-layout-color0, white)));\n  --sklearn-color-border-box: var(--sg-text-color, var(--theme-code-foreground, var(--jp-content-font-color1, black)));\n  --sklearn-color-icon: #696969;\n\n  @media (prefers-color-scheme: dark) {\n    /* Redefinition of color scheme for dark theme */\n    --sklearn-color-text-on-default-background: var(--sg-text-color, var(--theme-code-foreground, var(--jp-content-font-color1, white)));\n    --sklearn-color-background: var(--sg-background-color, var(--theme-background, var(--jp-layout-color0, #111)));\n    --sklearn-color-border-box: var(--sg-text-color, var(--theme-code-foreground, var(--jp-content-font-color1, white)));\n    --sklearn-color-icon: #878787;\n  }\n}\n\n#sk-container-id-11 {\n  color: var(--sklearn-color-text);\n}\n\n#sk-container-id-11 pre {\n  padding: 0;\n}\n\n#sk-container-id-11 input.sk-hidden--visually {\n  border: 0;\n  clip: rect(1px 1px 1px 1px);\n  clip: rect(1px, 1px, 1px, 1px);\n  height: 1px;\n  margin: -1px;\n  overflow: hidden;\n  padding: 0;\n  position: absolute;\n  width: 1px;\n}\n\n#sk-container-id-11 div.sk-dashed-wrapped {\n  border: 1px dashed var(--sklearn-color-line);\n  margin: 0 0.4em 0.5em 0.4em;\n  box-sizing: border-box;\n  padding-bottom: 0.4em;\n  background-color: var(--sklearn-color-background);\n}\n\n#sk-container-id-11 div.sk-container {\n  /* jupyter's `normalize.less` sets `[hidden] { display: none; }`\n     but bootstrap.min.css set `[hidden] { display: none !important; }`\n     so we also need the `!important` here to be able to override the\n     default hidden behavior on the sphinx rendered scikit-learn.org.\n     See: https://github.com/scikit-learn/scikit-learn/issues/21755 */\n  display: inline-block !important;\n  position: relative;\n}\n\n#sk-container-id-11 div.sk-text-repr-fallback {\n  display: none;\n}\n\ndiv.sk-parallel-item,\ndiv.sk-serial,\ndiv.sk-item {\n  /* draw centered vertical line to link estimators */\n  background-image: linear-gradient(var(--sklearn-color-text-on-default-background), var(--sklearn-color-text-on-default-background));\n  background-size: 2px 100%;\n  background-repeat: no-repeat;\n  background-position: center center;\n}\n\n/* Parallel-specific style estimator block */\n\n#sk-container-id-11 div.sk-parallel-item::after {\n  content: \"\";\n  width: 100%;\n  border-bottom: 2px solid var(--sklearn-color-text-on-default-background);\n  flex-grow: 1;\n}\n\n#sk-container-id-11 div.sk-parallel {\n  display: flex;\n  align-items: stretch;\n  justify-content: center;\n  background-color: var(--sklearn-color-background);\n  position: relative;\n}\n\n#sk-container-id-11 div.sk-parallel-item {\n  display: flex;\n  flex-direction: column;\n}\n\n#sk-container-id-11 div.sk-parallel-item:first-child::after {\n  align-self: flex-end;\n  width: 50%;\n}\n\n#sk-container-id-11 div.sk-parallel-item:last-child::after {\n  align-self: flex-start;\n  width: 50%;\n}\n\n#sk-container-id-11 div.sk-parallel-item:only-child::after {\n  width: 0;\n}\n\n/* Serial-specific style estimator block */\n\n#sk-container-id-11 div.sk-serial {\n  display: flex;\n  flex-direction: column;\n  align-items: center;\n  background-color: var(--sklearn-color-background);\n  padding-right: 1em;\n  padding-left: 1em;\n}\n\n\n/* Toggleable style: style used for estimator/Pipeline/ColumnTransformer box that is\nclickable and can be expanded/collapsed.\n- Pipeline and ColumnTransformer use this feature and define the default style\n- Estimators will overwrite some part of the style using the `sk-estimator` class\n*/\n\n/* Pipeline and ColumnTransformer style (default) */\n\n#sk-container-id-11 div.sk-toggleable {\n  /* Default theme specific background. It is overwritten whether we have a\n  specific estimator or a Pipeline/ColumnTransformer */\n  background-color: var(--sklearn-color-background);\n}\n\n/* Toggleable label */\n#sk-container-id-11 label.sk-toggleable__label {\n  cursor: pointer;\n  display: block;\n  width: 100%;\n  margin-bottom: 0;\n  padding: 0.5em;\n  box-sizing: border-box;\n  text-align: center;\n}\n\n#sk-container-id-11 label.sk-toggleable__label-arrow:before {\n  /* Arrow on the left of the label */\n  content: \"▸\";\n  float: left;\n  margin-right: 0.25em;\n  color: var(--sklearn-color-icon);\n}\n\n#sk-container-id-11 label.sk-toggleable__label-arrow:hover:before {\n  color: var(--sklearn-color-text);\n}\n\n/* Toggleable content - dropdown */\n\n#sk-container-id-11 div.sk-toggleable__content {\n  max-height: 0;\n  max-width: 0;\n  overflow: hidden;\n  text-align: left;\n  /* unfitted */\n  background-color: var(--sklearn-color-unfitted-level-0);\n}\n\n#sk-container-id-11 div.sk-toggleable__content.fitted {\n  /* fitted */\n  background-color: var(--sklearn-color-fitted-level-0);\n}\n\n#sk-container-id-11 div.sk-toggleable__content pre {\n  margin: 0.2em;\n  border-radius: 0.25em;\n  color: var(--sklearn-color-text);\n  /* unfitted */\n  background-color: var(--sklearn-color-unfitted-level-0);\n}\n\n#sk-container-id-11 div.sk-toggleable__content.fitted pre {\n  /* unfitted */\n  background-color: var(--sklearn-color-fitted-level-0);\n}\n\n#sk-container-id-11 input.sk-toggleable__control:checked~div.sk-toggleable__content {\n  /* Expand drop-down */\n  max-height: 200px;\n  max-width: 100%;\n  overflow: auto;\n}\n\n#sk-container-id-11 input.sk-toggleable__control:checked~label.sk-toggleable__label-arrow:before {\n  content: \"▾\";\n}\n\n/* Pipeline/ColumnTransformer-specific style */\n\n#sk-container-id-11 div.sk-label input.sk-toggleable__control:checked~label.sk-toggleable__label {\n  color: var(--sklearn-color-text);\n  background-color: var(--sklearn-color-unfitted-level-2);\n}\n\n#sk-container-id-11 div.sk-label.fitted input.sk-toggleable__control:checked~label.sk-toggleable__label {\n  background-color: var(--sklearn-color-fitted-level-2);\n}\n\n/* Estimator-specific style */\n\n/* Colorize estimator box */\n#sk-container-id-11 div.sk-estimator input.sk-toggleable__control:checked~label.sk-toggleable__label {\n  /* unfitted */\n  background-color: var(--sklearn-color-unfitted-level-2);\n}\n\n#sk-container-id-11 div.sk-estimator.fitted input.sk-toggleable__control:checked~label.sk-toggleable__label {\n  /* fitted */\n  background-color: var(--sklearn-color-fitted-level-2);\n}\n\n#sk-container-id-11 div.sk-label label.sk-toggleable__label,\n#sk-container-id-11 div.sk-label label {\n  /* The background is the default theme color */\n  color: var(--sklearn-color-text-on-default-background);\n}\n\n/* On hover, darken the color of the background */\n#sk-container-id-11 div.sk-label:hover label.sk-toggleable__label {\n  color: var(--sklearn-color-text);\n  background-color: var(--sklearn-color-unfitted-level-2);\n}\n\n/* Label box, darken color on hover, fitted */\n#sk-container-id-11 div.sk-label.fitted:hover label.sk-toggleable__label.fitted {\n  color: var(--sklearn-color-text);\n  background-color: var(--sklearn-color-fitted-level-2);\n}\n\n/* Estimator label */\n\n#sk-container-id-11 div.sk-label label {\n  font-family: monospace;\n  font-weight: bold;\n  display: inline-block;\n  line-height: 1.2em;\n}\n\n#sk-container-id-11 div.sk-label-container {\n  text-align: center;\n}\n\n/* Estimator-specific */\n#sk-container-id-11 div.sk-estimator {\n  font-family: monospace;\n  border: 1px dotted var(--sklearn-color-border-box);\n  border-radius: 0.25em;\n  box-sizing: border-box;\n  margin-bottom: 0.5em;\n  /* unfitted */\n  background-color: var(--sklearn-color-unfitted-level-0);\n}\n\n#sk-container-id-11 div.sk-estimator.fitted {\n  /* fitted */\n  background-color: var(--sklearn-color-fitted-level-0);\n}\n\n/* on hover */\n#sk-container-id-11 div.sk-estimator:hover {\n  /* unfitted */\n  background-color: var(--sklearn-color-unfitted-level-2);\n}\n\n#sk-container-id-11 div.sk-estimator.fitted:hover {\n  /* fitted */\n  background-color: var(--sklearn-color-fitted-level-2);\n}\n\n/* Specification for estimator info (e.g. \"i\" and \"?\") */\n\n/* Common style for \"i\" and \"?\" */\n\n.sk-estimator-doc-link,\na:link.sk-estimator-doc-link,\na:visited.sk-estimator-doc-link {\n  float: right;\n  font-size: smaller;\n  line-height: 1em;\n  font-family: monospace;\n  background-color: var(--sklearn-color-background);\n  border-radius: 1em;\n  height: 1em;\n  width: 1em;\n  text-decoration: none !important;\n  margin-left: 1ex;\n  /* unfitted */\n  border: var(--sklearn-color-unfitted-level-1) 1pt solid;\n  color: var(--sklearn-color-unfitted-level-1);\n}\n\n.sk-estimator-doc-link.fitted,\na:link.sk-estimator-doc-link.fitted,\na:visited.sk-estimator-doc-link.fitted {\n  /* fitted */\n  border: var(--sklearn-color-fitted-level-1) 1pt solid;\n  color: var(--sklearn-color-fitted-level-1);\n}\n\n/* On hover */\ndiv.sk-estimator:hover .sk-estimator-doc-link:hover,\n.sk-estimator-doc-link:hover,\ndiv.sk-label-container:hover .sk-estimator-doc-link:hover,\n.sk-estimator-doc-link:hover {\n  /* unfitted */\n  background-color: var(--sklearn-color-unfitted-level-3);\n  color: var(--sklearn-color-background);\n  text-decoration: none;\n}\n\ndiv.sk-estimator.fitted:hover .sk-estimator-doc-link.fitted:hover,\n.sk-estimator-doc-link.fitted:hover,\ndiv.sk-label-container:hover .sk-estimator-doc-link.fitted:hover,\n.sk-estimator-doc-link.fitted:hover {\n  /* fitted */\n  background-color: var(--sklearn-color-fitted-level-3);\n  color: var(--sklearn-color-background);\n  text-decoration: none;\n}\n\n/* Span, style for the box shown on hovering the info icon */\n.sk-estimator-doc-link span {\n  display: none;\n  z-index: 9999;\n  position: relative;\n  font-weight: normal;\n  right: .2ex;\n  padding: .5ex;\n  margin: .5ex;\n  width: min-content;\n  min-width: 20ex;\n  max-width: 50ex;\n  color: var(--sklearn-color-text);\n  box-shadow: 2pt 2pt 4pt #999;\n  /* unfitted */\n  background: var(--sklearn-color-unfitted-level-0);\n  border: .5pt solid var(--sklearn-color-unfitted-level-3);\n}\n\n.sk-estimator-doc-link.fitted span {\n  /* fitted */\n  background: var(--sklearn-color-fitted-level-0);\n  border: var(--sklearn-color-fitted-level-3);\n}\n\n.sk-estimator-doc-link:hover span {\n  display: block;\n}\n\n/* \"?\"-specific style due to the `<a>` HTML tag */\n\n#sk-container-id-11 a.estimator_doc_link {\n  float: right;\n  font-size: 1rem;\n  line-height: 1em;\n  font-family: monospace;\n  background-color: var(--sklearn-color-background);\n  border-radius: 1rem;\n  height: 1rem;\n  width: 1rem;\n  text-decoration: none;\n  /* unfitted */\n  color: var(--sklearn-color-unfitted-level-1);\n  border: var(--sklearn-color-unfitted-level-1) 1pt solid;\n}\n\n#sk-container-id-11 a.estimator_doc_link.fitted {\n  /* fitted */\n  border: var(--sklearn-color-fitted-level-1) 1pt solid;\n  color: var(--sklearn-color-fitted-level-1);\n}\n\n/* On hover */\n#sk-container-id-11 a.estimator_doc_link:hover {\n  /* unfitted */\n  background-color: var(--sklearn-color-unfitted-level-3);\n  color: var(--sklearn-color-background);\n  text-decoration: none;\n}\n\n#sk-container-id-11 a.estimator_doc_link.fitted:hover {\n  /* fitted */\n  background-color: var(--sklearn-color-fitted-level-3);\n}\n</style><div id=\"sk-container-id-11\" class=\"sk-top-container\"><div class=\"sk-text-repr-fallback\"><pre>GridSearchCV(cv=3, estimator=KNeighborsClassifier(),\n             param_grid={&#x27;n_neighbors&#x27;: [7, 9, 11, 13],\n                         &#x27;weights&#x27;: [&#x27;uniform&#x27;, &#x27;distance&#x27;]},\n             scoring=&#x27;accuracy&#x27;)</pre><b>In a Jupyter environment, please rerun this cell to show the HTML representation or trust the notebook. <br />On GitHub, the HTML representation is unable to render, please try loading this page with nbviewer.org.</b></div><div class=\"sk-container\" hidden><div class=\"sk-item sk-dashed-wrapped\"><div class=\"sk-label-container\"><div class=\"sk-label fitted sk-toggleable\"><input class=\"sk-toggleable__control sk-hidden--visually\" id=\"sk-estimator-id-31\" type=\"checkbox\" ><label for=\"sk-estimator-id-31\" class=\"sk-toggleable__label fitted sk-toggleable__label-arrow fitted\">&nbsp;&nbsp;GridSearchCV<a class=\"sk-estimator-doc-link fitted\" rel=\"noreferrer\" target=\"_blank\" href=\"https://scikit-learn.org/1.4/modules/generated/sklearn.model_selection.GridSearchCV.html\">?<span>Documentation for GridSearchCV</span></a><span class=\"sk-estimator-doc-link fitted\">i<span>Fitted</span></span></label><div class=\"sk-toggleable__content fitted\"><pre>GridSearchCV(cv=3, estimator=KNeighborsClassifier(),\n             param_grid={&#x27;n_neighbors&#x27;: [7, 9, 11, 13],\n                         &#x27;weights&#x27;: [&#x27;uniform&#x27;, &#x27;distance&#x27;]},\n             scoring=&#x27;accuracy&#x27;)</pre></div> </div></div><div class=\"sk-parallel\"><div class=\"sk-parallel-item\"><div class=\"sk-item\"><div class=\"sk-label-container\"><div class=\"sk-label fitted sk-toggleable\"><input class=\"sk-toggleable__control sk-hidden--visually\" id=\"sk-estimator-id-32\" type=\"checkbox\" ><label for=\"sk-estimator-id-32\" class=\"sk-toggleable__label fitted sk-toggleable__label-arrow fitted\">estimator: KNeighborsClassifier</label><div class=\"sk-toggleable__content fitted\"><pre>KNeighborsClassifier()</pre></div> </div></div><div class=\"sk-serial\"><div class=\"sk-item\"><div class=\"sk-estimator fitted sk-toggleable\"><input class=\"sk-toggleable__control sk-hidden--visually\" id=\"sk-estimator-id-33\" type=\"checkbox\" ><label for=\"sk-estimator-id-33\" class=\"sk-toggleable__label fitted sk-toggleable__label-arrow fitted\">&nbsp;KNeighborsClassifier<a class=\"sk-estimator-doc-link fitted\" rel=\"noreferrer\" target=\"_blank\" href=\"https://scikit-learn.org/1.4/modules/generated/sklearn.neighbors.KNeighborsClassifier.html\">?<span>Documentation for KNeighborsClassifier</span></a></label><div class=\"sk-toggleable__content fitted\"><pre>KNeighborsClassifier()</pre></div> </div></div></div></div></div></div></div></div></div>"
     },
     "execution_count": 387,
     "metadata": {},
     "output_type": "execute_result"
    }
   ],
   "source": [
    "svc_grid_search.fit(x_train, y_train)\n",
    "rf_grid_search.fit(x_train, y_train)\n",
    "knn_grid_search.fit(x_train, y_train)"
   ],
   "metadata": {
    "collapsed": false,
    "ExecuteTime": {
     "end_time": "2024-04-01T11:35:24.457849300Z",
     "start_time": "2024-04-01T11:35:17.597188200Z"
    }
   },
   "id": "5fa3e209a59d54e4",
   "execution_count": 387
  },
  {
   "cell_type": "markdown",
   "source": [
    "# Get the best parameters and accuracies"
   ],
   "metadata": {
    "collapsed": false
   },
   "id": "e20cfeca3ed7ff85"
  },
  {
   "cell_type": "code",
   "outputs": [],
   "source": [
    "best_svc = svc_grid_search.best_estimator_\n",
    "svc_best_params = svc_grid_search.best_params_\n",
    "svc_best_accuracy = svc_grid_search.best_score_"
   ],
   "metadata": {
    "collapsed": false,
    "ExecuteTime": {
     "end_time": "2024-04-01T11:35:24.464979200Z",
     "start_time": "2024-04-01T11:35:24.459604300Z"
    }
   },
   "id": "995403a2e9186df1",
   "execution_count": 388
  },
  {
   "cell_type": "code",
   "outputs": [],
   "source": [
    "best_rf = rf_grid_search.best_estimator_\n",
    "rf_best_params = rf_grid_search.best_params_\n",
    "rf_best_accuracy = rf_grid_search.best_score_"
   ],
   "metadata": {
    "collapsed": false,
    "ExecuteTime": {
     "end_time": "2024-04-01T11:35:24.467059400Z",
     "start_time": "2024-04-01T11:35:24.462286300Z"
    }
   },
   "id": "c4d7c19e42e44793",
   "execution_count": 389
  },
  {
   "cell_type": "code",
   "outputs": [],
   "source": [
    "best_knn = knn_grid_search.best_estimator_\n",
    "knn_best_params = knn_grid_search.best_params_\n",
    "knn_best_accuracy = knn_grid_search.best_score_"
   ],
   "metadata": {
    "collapsed": false,
    "ExecuteTime": {
     "end_time": "2024-04-01T11:35:24.472830Z",
     "start_time": "2024-04-01T11:35:24.469635900Z"
    }
   },
   "id": "46f1640f67a1ce5e",
   "execution_count": 390
  },
  {
   "cell_type": "markdown",
   "source": [
    "# Calculate testing accuracies"
   ],
   "metadata": {
    "collapsed": false
   },
   "id": "2767dcb49faa42bc"
  },
  {
   "cell_type": "code",
   "outputs": [],
   "source": [
    "svc_test_accuracy = best_svc.score(x_test, y_test)\n",
    "rf_test_accuracy = best_rf.score(x_test, y_test)\n",
    "knn_test_accuracy = best_knn.score(x_test, y_test)"
   ],
   "metadata": {
    "collapsed": false,
    "ExecuteTime": {
     "end_time": "2024-04-01T11:35:24.488076600Z",
     "start_time": "2024-04-01T11:35:24.471764700Z"
    }
   },
   "id": "2388659b2a145706",
   "execution_count": 391
  },
  {
   "cell_type": "markdown",
   "source": [
    "# Print results"
   ],
   "metadata": {
    "collapsed": false
   },
   "id": "7eb84cb0a9640ad3"
  },
  {
   "cell_type": "code",
   "outputs": [
    {
     "name": "stdout",
     "output_type": "stream",
     "text": [
      "Support Vector Classifier:\n",
      "Best parameters: {'C': 20, 'gamma': 0.1, 'kernel': 'rbf'}\n",
      "Best accuracy: 0.9692546764261648\n",
      "Testing accuracy: 0.9736842105263158\n",
      "\n",
      "Random Forest:\n",
      "Best parameters: {'max_depth': 20, 'n_estimators': 100}\n",
      "Best accuracy: 0.9582752410828396\n",
      "Testing accuracy: 0.9473684210526315\n",
      "\n",
      "K-Nearest Neighbors:\n",
      "Best parameters: {'n_neighbors': 11, 'weights': 'distance'}\n",
      "Best accuracy: 0.9670762170326479\n",
      "Testing accuracy: 0.956140350877193\n"
     ]
    }
   ],
   "source": [
    "print(\"Support Vector Classifier:\")\n",
    "print(\"Best parameters:\", svc_best_params)\n",
    "print(\"Best accuracy:\", svc_best_accuracy)\n",
    "print(\"Testing accuracy:\", svc_test_accuracy)\n",
    "\n",
    "print(\"\\nRandom Forest:\")\n",
    "print(\"Best parameters:\", rf_best_params)\n",
    "print(\"Best accuracy:\", rf_best_accuracy)\n",
    "print(\"Testing accuracy:\", rf_test_accuracy)\n",
    "\n",
    "print(\"\\nK-Nearest Neighbors:\")\n",
    "print(\"Best parameters:\", knn_best_params)\n",
    "print(\"Best accuracy:\", knn_best_accuracy)\n",
    "print(\"Testing accuracy:\", knn_test_accuracy)"
   ],
   "metadata": {
    "collapsed": false,
    "ExecuteTime": {
     "end_time": "2024-04-01T11:35:24.531995100Z",
     "start_time": "2024-04-01T11:35:24.490924900Z"
    }
   },
   "id": "b7e73ea908f2e405",
   "execution_count": 392
  },
  {
   "cell_type": "markdown",
   "source": [
    "### Predict labels for the testing set"
   ],
   "metadata": {
    "collapsed": false
   },
   "id": "280670a0905b0d44"
  },
  {
   "cell_type": "code",
   "outputs": [],
   "source": [
    "svc_test_predict = best_svc.predict(x_test)\n",
    "rf_test_predict = best_rf.predict(x_test)\n",
    "knn_test_predict = best_knn.predict(x_test)"
   ],
   "metadata": {
    "collapsed": false,
    "ExecuteTime": {
     "end_time": "2024-04-01T11:35:24.533036400Z",
     "start_time": "2024-04-01T11:35:24.495985700Z"
    }
   },
   "id": "21da9ff5e023f71e",
   "execution_count": 393
  },
  {
   "cell_type": "markdown",
   "source": [
    "### Compute confusion matrices"
   ],
   "metadata": {
    "collapsed": false
   },
   "id": "2e891ad0d1860dfb"
  },
  {
   "cell_type": "code",
   "outputs": [],
   "source": [
    "svc_conf_matrix = confusion_matrix(y_test, svc_test_predict)\n",
    "rf_conf_matrix = confusion_matrix(y_test, rf_test_predict)\n",
    "knn_conf_matrix = confusion_matrix(y_test, knn_test_predict)"
   ],
   "metadata": {
    "collapsed": false,
    "ExecuteTime": {
     "end_time": "2024-04-01T11:35:24.533036400Z",
     "start_time": "2024-04-01T11:35:24.511777900Z"
    }
   },
   "id": "c45fe7c9036c19e6",
   "execution_count": 394
  },
  {
   "cell_type": "markdown",
   "source": [
    "# Extract different types of errors from confusion matrices"
   ],
   "metadata": {
    "collapsed": false
   },
   "id": "7a6bab538333cf26"
  },
  {
   "cell_type": "code",
   "outputs": [],
   "source": [
    "svc_false_positives = svc_conf_matrix[0, 1]\n",
    "svc_false_negatives = svc_conf_matrix[1, 0]\n",
    "rf_false_positives = rf_conf_matrix[0, 1]\n",
    "rf_false_negatives = rf_conf_matrix[1, 0]\n",
    "knn_false_positives = knn_conf_matrix[0, 1]\n",
    "knn_false_negatives = knn_conf_matrix[1, 0]"
   ],
   "metadata": {
    "collapsed": false,
    "ExecuteTime": {
     "end_time": "2024-04-01T11:35:24.534075Z",
     "start_time": "2024-04-01T11:35:24.517987600Z"
    }
   },
   "id": "742c8e724b16501d",
   "execution_count": 395
  },
  {
   "cell_type": "markdown",
   "source": [
    "# Print confusion matrices and errors"
   ],
   "metadata": {
    "collapsed": false
   },
   "id": "cf00a475d9f0db6e"
  },
  {
   "cell_type": "code",
   "outputs": [
    {
     "name": "stdout",
     "output_type": "stream",
     "text": [
      "Support Vector Classifier False Positives: 0\n",
      "Support Vector Classifier False Negatives: 3\n",
      "Random Forest False Positives: 1\n",
      "Random Forest False Negatives: 5\n",
      "K-Nearest Neighbors False Positives: 0\n",
      "K-Nearest Neighbors False Negatives: 5\n"
     ]
    },
    {
     "data": {
      "text/plain": "<Figure size 2000x500 with 6 Axes>",
      "image/png": "[encoded data removed]"
     },
     "metadata": {},
     "output_type": "display_data"
    }
   ],
   "source": [
    "# Create subplots for all three confusion matrices\n",
    "fig, axes = plt.subplots(1, 3, figsize=(20, 5))\n",
    "\n",
    "# Plot Support Vector Classifier Confusion Matrix\n",
    "sns.heatmap(svc_conf_matrix, annot=True, ax=axes[0], cmap=\"Blues\")\n",
    "axes[0].set_title(\"Support Vector Classifier Confusion Matrix\")\n",
    "axes[0].set_xlabel(\"Predicted\")\n",
    "axes[0].set_ylabel(\"Truth\")\n",
    "\n",
    "# Plot Random Forest Confusion Matrix\n",
    "sns.heatmap(rf_conf_matrix, annot=True, ax=axes[1], cmap=\"Blues\")\n",
    "axes[1].set_title(\"Random Forest Confusion Matrix\")\n",
    "axes[1].set_xlabel(\"Predicted\")\n",
    "axes[1].set_ylabel(\"Truth\")\n",
    "\n",
    "# Plot K-Nearest Neighbors Confusion Matrix\n",
    "sns.heatmap(knn_conf_matrix, annot=True, ax=axes[2], cmap=\"Blues\")\n",
    "axes[2].set_title(\"K-Nearest Neighbors Confusion Matrix\")\n",
    "axes[2].set_xlabel(\"Predicted\")\n",
    "axes[2].set_ylabel(\"Truth\")\n",
    "\n",
    "print(\"Support Vector Classifier False Positives:\", svc_false_positives)\n",
    "print(\"Support Vector Classifier False Negatives:\", svc_false_negatives)\n",
    "\n",
    "print(\"Random Forest False Positives:\", rf_false_positives)\n",
    "print(\"Random Forest False Negatives:\", rf_false_negatives)\n",
    "\n",
    "print(\"K-Nearest Neighbors False Positives:\", knn_false_positives)\n",
    "print(\"K-Nearest Neighbors False Negatives:\", knn_false_negatives)"
   ],
   "metadata": {
    "collapsed": false,
    "ExecuteTime": {
     "end_time": "2024-04-01T11:35:24.872717900Z",
     "start_time": "2024-04-01T11:35:24.526741900Z"
    }
   },
   "id": "bbf22ee51355481a",
   "execution_count": 396
  },
  {
   "cell_type": "markdown",
   "source": [
    "1. False Positive: Occurs when the model incorrectly predicts a positive outcome when the actual outcome is negative.\n",
    "2. False Negative: Occurs when the model incorrectly predicts a negative outcome when the actual outcome is positive. False negatives may result in missed opportunities or failures to act when action is needed. In certain situations, such as medical diagnosis or security screening as there, false negatives can have serious consequences if they lead to undetected issues or risks.\n",
    "\n",
    "That means that we need to choose model with minimal false negative predictions"
   ],
   "metadata": {
    "collapsed": false
   },
   "id": "7d0670c6996d2eb9"
  },
  {
   "cell_type": "markdown",
   "source": [
    "## Support Vector Classifier (SVC):\n",
    "\n",
    "1. Linearly Separable Data: SVC works well when the data is linearly separable, meaning classes can be separated by a straight line or hyperplane.\n",
    "2. Small to Medium-sized Datasets: SVC can handle small to medium-sized datasets efficiently, especially when the number of features is not too large."
   ],
   "metadata": {
    "collapsed": false
   },
   "id": "c5b31a083f7b244c"
  },
  {
   "cell_type": "markdown",
   "source": [
    "## Random Forest:\n",
    "\n",
    "1. High-dimensional Data: Random Forest performs well with high-dimensional data, where the number of features is large relative to the number of samples.\n",
    "2. Nonlinear Relationships: Random Forest can capture complex nonlinear relationships between features and the target variable.\n",
    "3. Robustness to Overfitting: Random Forest tends to generalize well and is less prone to overfitting compared to decision trees, especially when the max_depth parameter is appropriately tuned.\n",
    "4. Imbalanced data: Random Forest can handle imbalanced data reasonably well "
   ],
   "metadata": {
    "collapsed": false
   },
   "id": "53d9c4038b7446bb"
  },
  {
   "cell_type": "markdown",
   "source": [
    "## K-Nearest Neighbors (KNN):\n",
    "\n",
    "1. Localized Patterns: KNN is effective for capturing localized patterns in the data, where nearby instances tend to have similar target values.\n",
    "2. No Assumptions about Data Distribution: Unlike parametric models, KNN does not assume any specific form of the data distribution, making it suitable for diverse datasets."
   ],
   "metadata": {
    "collapsed": false
   },
   "id": "8c92b21f49ab438"
  },
  {
   "cell_type": "markdown",
   "source": [
    "## Conclusion\n",
    "\n",
    "This dataset is well-balanced, has an optimal number of parameters, so any machine learning algorithm can solve the classification problem well, this can also be seen thanks to the testing sample\n",
    "\n",
    "It is better to choose SVC since it has less False Negative predictions than others."
   ],
   "metadata": {
    "collapsed": false
   },
   "id": "320fe5cc8d2e86"
  },
  {
   "cell_type": "markdown",
   "source": [
    "# Get numerical the importance of characteristics"
   ],
   "metadata": {
    "collapsed": false
   },
   "id": "fea2ea31d75b132f"
  },
  {
   "cell_type": "markdown",
   "source": [
    "Such a graph is possible due to the high interpretability of the random forest"
   ],
   "metadata": {
    "collapsed": false
   },
   "id": "7a0dde8fa5e79916"
  },
  {
   "cell_type": "code",
   "outputs": [
    {
     "name": "stdout",
     "output_type": "stream",
     "text": [
      "Variable: concave points_worst Importance: 0.15\n",
      "Variable: perimeter_worst      Importance: 0.12\n",
      "Variable: area_worst           Importance: 0.12\n",
      "Variable: radius_worst         Importance: 0.08\n",
      "Variable: concavity_mean       Importance: 0.07\n",
      "Variable: concave points_mean  Importance: 0.07\n",
      "Variable: perimeter_mean       Importance: 0.06\n",
      "Variable: area_se              Importance: 0.06\n",
      "Variable: concavity_worst      Importance: 0.05\n",
      "Variable: radius_mean          Importance: 0.04\n",
      "Variable: area_mean            Importance: 0.03\n",
      "Variable: texture_mean         Importance: 0.02\n",
      "Variable: compactness_mean     Importance: 0.02\n",
      "Variable: texture_worst        Importance: 0.02\n",
      "Variable: radius_se            Importance: 0.01\n",
      "Variable: perimeter_se         Importance: 0.01\n",
      "Variable: compactness_se       Importance: 0.01\n",
      "Variable: concavity_se         Importance: 0.01\n",
      "Variable: concave points_se    Importance: 0.01\n",
      "Variable: smoothness_worst     Importance: 0.01\n",
      "Variable: compactness_worst    Importance: 0.01\n",
      "Variable: symmetry_worst       Importance: 0.01\n",
      "Variable: smoothness_mean      Importance: 0.0\n",
      "Variable: symmetry_mean        Importance: 0.0\n",
      "Variable: fractal_dimension_mean Importance: 0.0\n",
      "Variable: texture_se           Importance: 0.0\n",
      "Variable: smoothness_se        Importance: 0.0\n",
      "Variable: symmetry_se          Importance: 0.0\n",
      "Variable: fractal_dimension_se Importance: 0.0\n",
      "Variable: fractal_dimension_worst Importance: 0.0\n"
     ]
    },
    {
     "data": {
      "text/plain": "<Figure size 640x480 with 1 Axes>",
      "image/png": "[encoded data removed]"
     },
     "metadata": {},
     "output_type": "display_data"
    }
   ],
   "source": [
    "importance_of_char = best_rf.feature_importances_\n",
    "\n",
    "# Get the name of the features\n",
    "feature_list = list(df.columns.drop(\"diagnosis\"))\n",
    "\n",
    "# List of tuples with variable and importance\n",
    "feature_importance= [(feature, round(importance, 2)) for feature, importance in zip(feature_list, importance_of_char)]\n",
    "\n",
    "# Sort the feature the importance of characteristics by most important first\n",
    "feature_importance = sorted(feature_importance, key = lambda x_sort: x_sort[1], reverse = True)\n",
    "\n",
    "# Print out the feature and the importance of characteristics \n",
    "[print('Variable: {:20} Importance: {}'.format(*pair)) for pair in feature_importance]\n",
    "\n",
    "# list of x locations for plotting\n",
    "x_values = list(range(len(importance_of_char)))\n",
    "\n",
    "# Make a bar chart\n",
    "plt.bar(x_values, importance_of_char, orientation ='vertical')\n",
    "\n",
    "# Tick labels for x axis\n",
    "plt.xticks(x_values, feature_list, rotation='vertical')\n",
    "\n",
    "# Axis labels and title\n",
    "plt.ylabel('Importance'); plt.xlabel('Variable'); plt.title('Importance of characteristics');"
   ],
   "metadata": {
    "collapsed": false,
    "ExecuteTime": {
     "end_time": "2024-04-01T11:35:25.069547700Z",
     "start_time": "2024-04-01T11:35:24.876009100Z"
    }
   },
   "id": "87e9c0f0b950bd62",
   "execution_count": 397
  },
  {
   "cell_type": "markdown",
   "source": [
    "This graph shows that the most important variables are related to the perimeter, area and radius of the tumor in the worst case (this is probably how it stands for) Also concave points are very important."
   ],
   "metadata": {
    "collapsed": false
   },
   "id": "9b9f7819f5691e6c"
  }
 ],
 "metadata": {
  "kernelspec": {
   "display_name": "Python 3",
   "language": "python",
   "name": "python3"
  },
  "language_info": {
   "codemirror_mode": {
    "name": "ipython",
    "version": 2
   },
   "file_extension": ".py",
   "mimetype": "text/x-python",
   "name": "python",
   "nbconvert_exporter": "python",
   "pygments_lexer": "ipython2",
   "version": "2.7.6"
  }
 },
 "nbformat": 4,
 "nbformat_minor": 5
}
