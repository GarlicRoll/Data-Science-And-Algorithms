{
 "cells": [
  {
   "cell_type": "code",
   "outputs": [],
   "source": [
    "import csv\n",
    "import math\n",
    "import matplotlib.pyplot as plt\n",
    "from math import sin, cos, sqrt, atan2, radians\n",
    "\n",
    "import osmnx as ox # Library for open street maps"
   ],
   "metadata": {
    "collapsed": false,
    "ExecuteTime": {
     "end_time": "2024-03-18T04:47:50.888878600Z",
     "start_time": "2024-03-18T04:47:50.816362900Z"
    }
   },
   "id": "542fb3f61c4e5896",
   "execution_count": 356
  },
  {
   "cell_type": "markdown",
   "source": [
    "Class for the point of interest (e.g. - atm, restaurant)"
   ],
   "metadata": {
    "collapsed": false
   },
   "id": "ec21ccea14d2d757"
  },
  {
   "cell_type": "code",
   "outputs": [],
   "source": [
    "class POI:\n",
    "    def __init__(self, id, name, latitude, longitude, type_code, category):\n",
    "        self.id = id\n",
    "        self.name = name\n",
    "        self.latitude = latitude\n",
    "        self.longitude = longitude\n",
    "        self.type_code = type_code\n",
    "        self.category = category"
   ],
   "metadata": {
    "collapsed": false,
    "ExecuteTime": {
     "end_time": "2024-03-18T04:47:50.902360700Z",
     "start_time": "2024-03-18T04:47:50.893058500Z"
    }
   },
   "id": "4df86f8dc430ddc6",
   "execution_count": 357
  },
  {
   "cell_type": "markdown",
   "source": [
    "Converting distance between two points into meters"
   ],
   "metadata": {
    "collapsed": false
   },
   "id": "f082bad86f7580f0"
  },
  {
   "cell_type": "code",
   "outputs": [],
   "source": [
    "def degrees_to_meters(lat1, lon1, lat2, lon2):\n",
    "    # Approximate radius of earth in km\n",
    "    R = 6373.0\n",
    "\n",
    "    lat1 = radians(lat1)\n",
    "    lon1 = radians(lon1)\n",
    "    lat2 = radians(lat2)\n",
    "    lon2 = radians(lon2)\n",
    "    \n",
    "    dlon = lon2 - lon1\n",
    "    dlat = lat2 - lat1\n",
    "    \n",
    "    a = sin(dlat / 2)**2 + cos(lat1) * cos(lat2) * sin(dlon / 2)**2\n",
    "    c = 2 * atan2(sqrt(a), sqrt(1 - a))\n",
    "    \n",
    "    # Distance between two points in meters\n",
    "    distance = R * c * 1000\n",
    "    return distance"
   ],
   "metadata": {
    "collapsed": false,
    "ExecuteTime": {
     "end_time": "2024-03-18T04:47:50.905360900Z",
     "start_time": "2024-03-18T04:47:50.900352700Z"
    }
   },
   "id": "3d2bdd58f7cc655f",
   "execution_count": 358
  },
  {
   "cell_type": "markdown",
   "source": [
    "Main class for index building\n",
    "This class implements different methods: brute force and spatial indexing"
   ],
   "metadata": {
    "collapsed": false
   },
   "id": "76f3e301aec04206"
  },
  {
   "cell_type": "code",
   "outputs": [],
   "source": [
    "class IndexBuilding:\n",
    "    def __init__(self, file_path):\n",
    "        self.poi_list = []\n",
    "        self.poi_matrix = []\n",
    "        \n",
    "        self.diff_latitude = 0\n",
    "        self.diff_longitude = 0\n",
    "        \n",
    "        self.step_latitude = 0\n",
    "        self.step_longitude = 0\n",
    "        \n",
    "        self.min_latitude = 0\n",
    "        self.min_longitude = 0\n",
    "        \n",
    "        self.max_latitude = 0\n",
    "        self.max_longitude = 0\n",
    "        \n",
    "        self.boarders = 10\n",
    "             \n",
    "        self.build_index_brute_force(file_path)\n",
    "        self.build_spatial_index()\n",
    "        \n",
    "    # An index-building function (for brute force)\n",
    "    def build_index_brute_force(self, file_path):\n",
    "        with open(file_path, 'r', encoding='utf-8-sig') as file:\n",
    "            reader = csv.reader(file)\n",
    "            next(reader)  # Skip header row\n",
    "            id = -1\n",
    "            for row in reader:\n",
    "                id += 1\n",
    "                name = row[0]\n",
    "                latitude = float(row[1])\n",
    "                longitude = float(row[2])\n",
    "                type_code = row[3]\n",
    "                category = row[4]\n",
    "                poi = POI(id, name, latitude, longitude, type_code, category)\n",
    "                self.poi_list.append(poi)\n",
    "    \n",
    "    # An index-building function (for spatial)\n",
    "    def build_spatial_index(self):\n",
    "        max_latitude = max(poi.latitude for poi in self.poi_list)\n",
    "        max_longitude = max(poi.longitude for poi in self.poi_list)\n",
    "        min_latitude = min(poi.latitude for poi in self.poi_list)\n",
    "        min_longitude = min(poi.longitude for poi in self.poi_list)\n",
    "        \n",
    "        diff_latitude = max_latitude - min_latitude\n",
    "        diff_longitude = max_longitude - min_longitude\n",
    "        \n",
    "        step_latitude = diff_latitude / self.boarders\n",
    "        step_longitude = diff_longitude / self.boarders\n",
    "        \n",
    "        poi_matrix = [[[] for _ in range(self.boarders + 1)] for _ in range(self.boarders + 1)]\n",
    "    \n",
    "        for poi in self.poi_list:\n",
    "            i = int((poi.longitude - min_longitude) // step_longitude)\n",
    "            j = int((poi.latitude - min_latitude) // step_latitude)\n",
    "            poi_matrix[i][j].append(poi) \n",
    "            \n",
    "        self.poi_matrix = poi_matrix\n",
    "        \n",
    "        self.step_latitude = step_latitude\n",
    "        self.step_longitude = step_longitude\n",
    "        \n",
    "        self.min_latitude = min_latitude\n",
    "        self.min_longitude = min_longitude\n",
    "        \n",
    "        self.max_latitude = max_latitude\n",
    "        self.max_longitude = max_longitude\n",
    "        \n",
    "        self.diff_latitude = diff_latitude\n",
    "        self.diff_longitude = diff_longitude\n",
    "        \n",
    "    # A brute-force range query function\n",
    "    def range_scan(self, query_range, type_regex_str):\n",
    "        result = []\n",
    "        for poi in self.poi_list:\n",
    "            if query_range.contains(poi.latitude, poi.longitude) and poi.type_code.startswith(type_regex_str):\n",
    "                result.append(poi)\n",
    "        return result\n",
    "    \n",
    "    # A brute-force nearest neighbor query function\n",
    "    def nearest_neighbor_scan(self, query_point, type_regex_str):\n",
    "        result = None\n",
    "        min_distance = 9999 # meters \n",
    "        for poi in self.poi_list:\n",
    "            if poi.type_code.startswith(type_regex_str):\n",
    "                distance = degrees_to_meters(query_point.latitude, query_point.longitude, poi.latitude, poi.longitude)\n",
    "                if distance < min_distance:\n",
    "                    min_distance = distance\n",
    "                    result = poi\n",
    "        return result\n",
    "    \n",
    "    # A nearest neighbor query function based on the spatial index\n",
    "    def nearest_neighbor_query(self, query_point, type_regex_str):\n",
    "    \n",
    "        # Index of query point in our matrix (spatial indexing)\n",
    "        i = int((query_point.longitude - self.min_longitude) // self.step_longitude) - 1\n",
    "        j = int((query_point.latitude - self.min_latitude) // self.step_latitude) - 1\n",
    "        \n",
    "        # Calculating the coordinates of the sides of the box (cell) where query point is located\n",
    "        down = self.min_longitude + i * self.step_longitude\n",
    "        up = down + self.step_longitude\n",
    "        left = self.min_latitude + j * self.step_latitude\n",
    "        right = left + self.step_latitude\n",
    "        \n",
    "        # Calculating the distances from query point to the boarders of the cell\n",
    "        # To check do we need to check adjacent cells\n",
    "        distance_to_left = degrees_to_meters(query_point.latitude, query_point.longitude, left, query_point.longitude)\n",
    "        distance_to_right = degrees_to_meters(query_point.latitude, query_point.longitude, right, query_point.longitude)\n",
    "        distance_to_up = degrees_to_meters(query_point.latitude, query_point.longitude, query_point.latitude, up)\n",
    "        distance_to_down = degrees_to_meters(query_point.latitude, query_point.longitude, query_point.latitude, down)\n",
    "        \n",
    "        result = None\n",
    "        min_distance = 9999 # meters\n",
    "        # Checking points in squares\n",
    "        for poi in self.poi_matrix[i][j]:\n",
    "            if poi.type_code.startswith(type_regex_str):\n",
    "                distance = degrees_to_meters(query_point.latitude, query_point.longitude, poi.latitude, poi.longitude)\n",
    "                if distance < min_distance:\n",
    "                    min_distance = distance\n",
    "                    result = poi\n",
    "    \n",
    "        return result\n",
    "    \n",
    "    # A range query function based on the spatial index\n",
    "    def range_query(self, query_range, type_regex_str):\n",
    "        \n",
    "        # Checking cells that included in requesting rectangle \n",
    "        max_longitude = query_range.upper_left.longitude\n",
    "        if max_longitude > self.max_longitude: max_longitude = self.max_longitude\n",
    "            \n",
    "        min_longitude = query_range.bottom_right.longitude\n",
    "        if min_longitude < self.min_longitude: min_longitude = self.min_longitude\n",
    "        \n",
    "        max_latitude = query_range.bottom_right.latitude\n",
    "        if max_latitude > self.max_latitude: max_latitude = self.max_latitude\n",
    "        \n",
    "        min_latitude = query_range.upper_left.latitude\n",
    "        if min_latitude < self.min_latitude: min_latitude = self.min_latitude\n",
    "        \n",
    "        min_j = int((min_latitude - self.min_latitude) // self.step_latitude)\n",
    "        max_j = int((max_latitude - self.min_latitude) // self.step_latitude)\n",
    "        \n",
    "        min_i = int((min_longitude - self.min_longitude) // self.step_longitude)\n",
    "        max_i = int((max_longitude - self.min_longitude) // self.step_longitude)\n",
    "        \n",
    "        \n",
    "        result = []\n",
    "        for i in range(min_i, max_i + 1):\n",
    "            for j in range(min_j, max_j + 1):\n",
    "                for poi in self.poi_matrix[i][j]:\n",
    "                    if (query_range.contains(poi.latitude, poi.longitude) \n",
    "                            and poi.type_code.startswith(type_regex_str)):\n",
    "                        result.append(poi)\n",
    "        return result\n",
    "                "
   ],
   "metadata": {
    "collapsed": false,
    "ExecuteTime": {
     "end_time": "2024-03-18T04:47:50.937499200Z",
     "start_time": "2024-03-18T04:47:50.912359900Z"
    }
   },
   "id": "95e612ae8e487665",
   "execution_count": 359
  },
  {
   "cell_type": "markdown",
   "source": [
    "Class for rectangle on the map (with upper left and bottom right)"
   ],
   "metadata": {
    "collapsed": false
   },
   "id": "2d9d348d8fa38390"
  },
  {
   "cell_type": "code",
   "outputs": [],
   "source": [
    "class Rectangle:\n",
    "    def __init__(self, upper_left, bottom_right):\n",
    "        self.upper_left = upper_left\n",
    "        self.bottom_right = bottom_right\n",
    "        \n",
    "    def __init__(self, center, side_length_meters):\n",
    "        self.center = center\n",
    "        self.side_length_meters = side_length_meters\n",
    "\n",
    "        # Calculate the half side length in meters\n",
    "        half_side_length_meters = side_length_meters / 2\n",
    "\n",
    "        # Calculate the latitude and longitude offsets for the rectangle\n",
    "        lat_offset = (180 / math.pi) * (half_side_length_meters / 6373000)\n",
    "        lon_offset = (180 / math.pi) * (half_side_length_meters / 6373000) / math.cos(math.radians(center.latitude))\n",
    "\n",
    "        # Calculate the upper left and bottom right points of the rectangle\n",
    "        self.upper_left = Point(center.latitude - lat_offset, center.longitude + lon_offset)\n",
    "        self.bottom_right = Point(center.latitude + lat_offset, center.longitude - lon_offset)\n",
    "    \n",
    "    # Checking if rectangle contains poijnt\n",
    "    def contains(self, latitude, longitude):\n",
    "        return (self.bottom_right.latitude >= latitude >= self.upper_left.latitude and\n",
    "                self.bottom_right.longitude <= longitude <= self.upper_left.longitude)"
   ],
   "metadata": {
    "collapsed": false,
    "ExecuteTime": {
     "end_time": "2024-03-18T04:47:50.938400Z",
     "start_time": "2024-03-18T04:47:50.921152300Z"
    }
   },
   "id": "3a67ae6614efb9b0",
   "execution_count": 360
  },
  {
   "cell_type": "markdown",
   "source": [
    "Class for the point (with x (latitude) and y (longitude))"
   ],
   "metadata": {
    "collapsed": false
   },
   "id": "e18267d65b10fd8"
  },
  {
   "cell_type": "code",
   "outputs": [],
   "source": [
    "class Point:\n",
    "    def __init__(self, latitude, longitude):\n",
    "        self.latitude = latitude\n",
    "        self.longitude = longitude"
   ],
   "metadata": {
    "collapsed": false,
    "ExecuteTime": {
     "end_time": "2024-03-18T04:47:50.938400Z",
     "start_time": "2024-03-18T04:47:50.924160900Z"
    }
   },
   "id": "1de4547cde60b647",
   "execution_count": 361
  },
  {
   "cell_type": "markdown",
   "source": [
    "Index building"
   ],
   "metadata": {
    "collapsed": false
   },
   "id": "cafa3e363b7cb118"
  },
  {
   "cell_type": "code",
   "outputs": [],
   "source": [
    "index = IndexBuilding('Assignment2-2012_BIT_POI.csv')"
   ],
   "metadata": {
    "collapsed": false,
    "ExecuteTime": {
     "end_time": "2024-03-18T04:47:50.975443800Z",
     "start_time": "2024-03-18T04:47:50.942399Z"
    }
   },
   "id": "5df558e534b50c4",
   "execution_count": 362
  },
  {
   "cell_type": "code",
   "outputs": [],
   "source": [
    "type_regex_str = \"1603\"\n",
    "query_point = Point(39.958, 116.311)"
   ],
   "metadata": {
    "collapsed": false,
    "ExecuteTime": {
     "end_time": "2024-03-18T04:47:50.976428200Z",
     "start_time": "2024-03-18T04:47:50.956421100Z"
    }
   },
   "id": "dfb8c2db78663b28",
   "execution_count": 363
  },
  {
   "cell_type": "markdown",
   "source": [
    "Searching for the nearest ATM with spatial indexing"
   ],
   "metadata": {
    "collapsed": false
   },
   "id": "58d80f92059d4f"
  },
  {
   "cell_type": "code",
   "outputs": [
    {
     "name": "stdout",
     "output_type": "stream",
     "text": [
      "Nearest ATM around Central Building of BIT (spatial indexing):\n",
      "ID: 1120, Latitude: 39.9565121976451, Longitude: 116.31054154116, Type Code: 160306\n"
     ]
    }
   ],
   "source": [
    "res = index.nearest_neighbor_query(query_point, type_regex_str)\n",
    "print(\"Nearest ATM around Central Building of BIT (spatial indexing):\")\n",
    "print(f\"ID: {res.id}, Latitude: {res.latitude}, Longitude: {res.longitude}, Type Code: {res.type_code}\")"
   ],
   "metadata": {
    "collapsed": false,
    "ExecuteTime": {
     "end_time": "2024-03-18T04:47:51.024703900Z",
     "start_time": "2024-03-18T04:47:50.980383800Z"
    }
   },
   "id": "7d4b61a102e1bea5",
   "execution_count": 364
  },
  {
   "cell_type": "markdown",
   "source": [
    "Searching for the nearest ATM with brute force"
   ],
   "metadata": {
    "collapsed": false
   },
   "id": "3e8d5b726f0a6edb"
  },
  {
   "cell_type": "code",
   "outputs": [
    {
     "name": "stdout",
     "output_type": "stream",
     "text": [
      "Nearest ATM around Central Building of BIT (brute-force):\n",
      "ID: 1120, Latitude: 39.9565121976451, Longitude: 116.31054154116, Type Code: 160306\n"
     ]
    }
   ],
   "source": [
    "res = index.nearest_neighbor_scan(query_point, type_regex_str)\n",
    "print(\"Nearest ATM around Central Building of BIT (brute-force):\")\n",
    "print(f\"ID: {res.id}, Latitude: {res.latitude}, Longitude: {res.longitude}, Type Code: {res.type_code}\")"
   ],
   "metadata": {
    "collapsed": false,
    "ExecuteTime": {
     "end_time": "2024-03-18T04:47:51.051661300Z",
     "start_time": "2024-03-18T04:47:50.983897200Z"
    }
   },
   "id": "3e7c2523e6a58a43",
   "execution_count": 365
  },
  {
   "cell_type": "markdown",
   "source": [
    "Representing the nearest ATM on the map"
   ],
   "metadata": {
    "collapsed": false
   },
   "id": "e2fd49cfd3897f5d"
  },
  {
   "cell_type": "markdown",
   "source": [
    "### [Create a street network graph within the specified bounding box]"
   ],
   "metadata": {
    "collapsed": false
   },
   "id": "3e0eba67b0f39342"
  },
  {
   "cell_type": "code",
   "outputs": [],
   "source": [
    "G = ox.graph_from_bbox(bbox=(index.min_latitude, index.max_latitude, index.min_longitude, index.max_longitude), network_type='drive')"
   ],
   "metadata": {
    "collapsed": false
   },
   "id": "a8e7f481ed350c21",
   "execution_count": 0
  },
  {
   "cell_type": "markdown",
   "source": [
    "Latitude and longitude of the new point"
   ],
   "metadata": {
    "collapsed": false
   },
   "id": "301e986f768bc6b7"
  },
  {
   "cell_type": "code",
   "outputs": [],
   "source": [
    "new_latitude = res.latitude\n",
    "new_longitude = res.longitude"
   ],
   "metadata": {
    "collapsed": false
   },
   "id": "ebee4756f2982cf3",
   "execution_count": 0
  },
  {
   "cell_type": "markdown",
   "source": [
    "# Add the new point as a node to the graph and connect it to the nearest node"
   ],
   "metadata": {
    "collapsed": false
   },
   "id": "714497d0ccec4c62"
  },
  {
   "cell_type": "code",
   "outputs": [],
   "source": [
    "G.add_node(1307, x=new_longitude, y=new_latitude, color=\"red\")\n",
    "node_color = [\"none\" if n != 1307 else \"r\" for n in G.nodes()]"
   ],
   "metadata": {
    "collapsed": false
   },
   "id": "20290ae6ab3d3682",
   "execution_count": 0
  },
  {
   "cell_type": "markdown",
   "source": [
    "# Plot the updated graph with the new point"
   ],
   "metadata": {
    "collapsed": false
   },
   "id": "82d1d27e5411de1"
  },
  {
   "cell_type": "code",
   "outputs": [
    {
     "data": {
      "text/plain": "Text(0.5, 1.0, 'Nearest ATM around Central Building of BIT')"
     },
     "execution_count": 400,
     "metadata": {},
     "output_type": "execute_result"
    },
    {
     "data": {
      "text/plain": "<Figure size 800x800 with 1 Axes>",
      "image/png": "[encoded data removed]"
     },
     "metadata": {},
     "output_type": "display_data"
    }
   ],
   "source": [
    "fig, ax = ox.plot_graph(G, node_color=node_color, node_size=50, show=False, close=False)\n",
    "ax.set_title(\"Nearest ATM around Central Building of BIT\", color=\"white\")"
   ],
   "metadata": {
    "collapsed": false,
    "ExecuteTime": {
     "end_time": "2024-03-18T05:33:20.128585500Z",
     "start_time": "2024-03-18T05:33:19.357687400Z"
    }
   },
   "id": "1dc79f01efe3431f",
   "execution_count": 400
  },
  {
   "cell_type": "code",
   "outputs": [],
   "source": [
    "query_point = Point(39.955, 116.310)\n",
    "query_range = Rectangle(query_point, 500)\n",
    "type_regex_str = \"5\""
   ],
   "metadata": {
    "collapsed": false,
    "ExecuteTime": {
     "start_time": "2024-03-18T04:47:51.342201300Z"
    }
   },
   "id": "a49f4d150cd576db",
   "execution_count": null
  },
  {
   "cell_type": "markdown",
   "source": [
    "Searching for the restaurants in 500x500 meters square with brute force "
   ],
   "metadata": {
    "collapsed": false
   },
   "id": "6195a97f4d0d3368"
  },
  {
   "cell_type": "code",
   "outputs": [],
   "source": [
    "res = index.range_scan(query_range, type_regex_str)\n",
    "print(\"Nearest restaurants to the south door of BIT:\")\n",
    "print(f\"Count of restaurants in 500x500 meters square: {len(res)}\")\n",
    "for poi in res:\n",
    "    print(f\"ID: {poi.id}, Latitude: {poi.latitude}, Longitude: {poi.longitude}, Type Code: {poi.type_code}\")"
   ],
   "metadata": {
    "collapsed": false,
    "ExecuteTime": {
     "start_time": "2024-03-18T04:47:51.344200500Z"
    }
   },
   "id": "8684abb669f544db",
   "execution_count": null
  },
  {
   "cell_type": "markdown",
   "source": [
    "Searching for the restaurants in 500x500 meters square with spatial indexing "
   ],
   "metadata": {
    "collapsed": false
   },
   "id": "f62acfcf5567f618"
  },
  {
   "cell_type": "code",
   "outputs": [],
   "source": [
    "res = index.range_query(query_range, type_regex_str)\n",
    "print(\"Nearest restaurants to the south door of BIT:\")\n",
    "print(f\"Count of restaurants in 500x500 meters square: {len(res)}\")\n",
    "for poi in res:\n",
    "    print(f\"ID: {poi.id}, Latitude: {poi.latitude}, Longitude: {poi.longitude}, Type Code: {poi.type_code}\")"
   ],
   "metadata": {
    "collapsed": false,
    "ExecuteTime": {
     "start_time": "2024-03-18T04:47:51.346202200Z"
    }
   },
   "id": "8c458f52777cee47",
   "execution_count": null
  },
  {
   "cell_type": "code",
   "outputs": [],
   "source": [
    "G = ox.graph_from_bbox(bbox=(index.min_latitude,  index.max_latitude, index.min_longitude, index.max_longitude), network_type='drive')"
   ],
   "metadata": {
    "collapsed": false,
    "ExecuteTime": {
     "start_time": "2024-03-18T04:47:51.347202900Z"
    }
   },
   "id": "b8c913a484277156",
   "execution_count": null
  },
  {
   "cell_type": "code",
   "outputs": [],
   "source": [
    "x = [ind.latitude for ind in index.poi_list]\n",
    "y = [ind.longitude for ind in index.poi_list]\n",
    "fig, ax = ox.plot_graph(G)\n",
    "plt.scatter(x, y)\n",
    "plt.gca().xaxis.set_major_locator(plt.MaxNLocator(10))\n",
    "plt.gca().yaxis.set_major_locator(plt.MaxNLocator(10))\n",
    "plt.grid(color=\"r\", linewidth=3)\n",
    "\n",
    "# Set start and end points for x and y axes\n",
    "plt.xlim(index.min_latitude, index.max_latitude)\n",
    "plt.ylim(index.min_longitude, index.max_longitude) "
   ],
   "metadata": {
    "collapsed": true,
    "ExecuteTime": {
     "start_time": "2024-03-18T04:47:51.349201300Z"
    }
   },
   "id": "initial_id",
   "execution_count": null
  },
  {
   "cell_type": "markdown",
   "source": [
    "Measuring execution time"
   ],
   "metadata": {
    "collapsed": false
   },
   "id": "8b6c692937526152"
  },
  {
   "cell_type": "markdown",
   "source": [
    "The cpu time is the amount of time spent in user code and the amount of time spent in kernel code"
   ],
   "metadata": {
    "collapsed": false
   },
   "id": "d3f1174c4fafedd5"
  },
  {
   "cell_type": "markdown",
   "source": [
    "Wall-clock time is the time that a clock on the wall would measure as having elapsed between the start of the process and 'now'"
   ],
   "metadata": {
    "collapsed": false
   },
   "id": "e5ab6cfb53de16c7"
  },
  {
   "cell_type": "markdown",
   "source": [
    "Brute Force"
   ],
   "metadata": {
    "collapsed": false
   },
   "id": "eb98e481cfe44be1"
  },
  {
   "cell_type": "code",
   "outputs": [],
   "source": [
    "%%time\n",
    "for _ in range(1000): index.nearest_neighbor_scan(query_point, type_regex_str)"
   ],
   "metadata": {
    "collapsed": false,
    "ExecuteTime": {
     "start_time": "2024-03-18T04:47:51.350201100Z"
    }
   },
   "id": "dd6617a4ee305b8a",
   "execution_count": null
  },
  {
   "cell_type": "code",
   "outputs": [],
   "source": [
    "%%time\n",
    "for _ in range(1000): index.range_scan(query_range, type_regex_str)"
   ],
   "metadata": {
    "collapsed": false,
    "ExecuteTime": {
     "start_time": "2024-03-18T04:47:51.351201100Z"
    }
   },
   "id": "9d854ba87f9e0514",
   "execution_count": null
  },
  {
   "cell_type": "markdown",
   "source": [
    "Spatial index"
   ],
   "metadata": {
    "collapsed": false
   },
   "id": "cccc2889510db2e7"
  },
  {
   "cell_type": "code",
   "outputs": [],
   "source": [
    "%%time\n",
    "for _ in range(1000): index.nearest_neighbor_query(query_point, type_regex_str)"
   ],
   "metadata": {
    "collapsed": false,
    "ExecuteTime": {
     "start_time": "2024-03-18T04:47:51.352202400Z"
    }
   },
   "id": "5e0a863cc4eea722",
   "execution_count": null
  },
  {
   "cell_type": "code",
   "outputs": [],
   "source": [
    "%%time\n",
    "for _ in range(1000): index.range_query(query_range, type_regex_str)"
   ],
   "metadata": {
    "collapsed": false,
    "ExecuteTime": {
     "start_time": "2024-03-18T04:47:51.353201Z"
    }
   },
   "id": "9cfaccb889f4aa5a",
   "execution_count": null
  }
 ],
 "metadata": {
  "kernelspec": {
   "display_name": "Python 3",
   "language": "python",
   "name": "python3"
  },
  "language_info": {
   "codemirror_mode": {
    "name": "ipython",
    "version": 2
   },
   "file_extension": ".py",
   "mimetype": "text/x-python",
   "name": "python",
   "nbconvert_exporter": "python",
   "pygments_lexer": "ipython2",
   "version": "2.7.6"
  }
 },
 "nbformat": 4,
 "nbformat_minor": 5
}
